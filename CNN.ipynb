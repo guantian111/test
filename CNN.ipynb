{
  "cells": [
    {
      "attachments": {},
      "cell_type": "markdown",
      "metadata": {
        "id": "NTiSJGXw5DXz"
      },
      "source": [
        "# Implement Article:\n",
        "`CNN Model for Image Classification on MNIST and Fashion-MNIST Dataset`"
      ]
    },
    {
      "cell_type": "markdown",
      "metadata": {
        "id": "qOZTs-0p5o8O"
      },
      "source": [
        "Import Libraries"
      ]
    },
    {
      "cell_type": "code",
      "execution_count": 5,
      "metadata": {
        "id": "nq8W_nT98v_-"
      },
      "outputs": [],
      "source": [
        "import matplotlib.pyplot as plt\n",
        "import numpy as np\n",
        "import torch\n",
        "import torchvision\n",
        "from torch.utils.data import DataLoader, ConcatDataset, random_split\n",
        "from torchvision import datasets, transforms\n",
        "from torch import nn, optim\n",
        "from torchinfo import summary\n",
        "from torchmetrics import Accuracy, Precision, F1Score"
      ]
    },
    {
      "cell_type": "markdown",
      "metadata": {
        "id": "7AFrfBos5s77"
      },
      "source": [
        "Set device cuda if available"
      ]
    },
    {
      "cell_type": "code",
      "execution_count": 6,
      "metadata": {
        "id": "kaPXPBE9-OWs"
      },
      "outputs": [],
      "source": [
        "device = torch.device('cuda' if torch.cuda.is_available() else 'cpu')"
      ]
    },
    {
      "cell_type": "markdown",
      "metadata": {
        "id": "ipTlED8z5zCL"
      },
      "source": [
        "Use `transforms`:\n",
        "\n",
        "1.   data to tensors\n",
        "2.   normalize data -1 to 1"
      ]
    },
    {
      "cell_type": "code",
      "execution_count": 7,
      "metadata": {
        "id": "0zj1SuBxCiS2"
      },
      "outputs": [],
      "source": [
        "tf = transforms.Compose([transforms.ToTensor(), \n",
        "                         transforms.Normalize((0.5) , ( 0.5))])"
      ]
    },
    {
      "cell_type": "markdown",
      "metadata": {
        "id": "XjPa4ZCq6dVQ"
      },
      "source": [
        "### Q2-1"
      ]
    },
    {
      "cell_type": "markdown",
      "metadata": {
        "id": "5yBbzCk952Gg"
      },
      "source": [
        "Download Datas"
      ]
    },
    {
      "cell_type": "code",
      "execution_count": null,
      "metadata": {
        "colab": {
          "base_uri": "https://localhost:8080/",
          "height": 431,
          "referenced_widgets": [
            "b2befd9df26640eeb59f2f39d4af60fe",
            "6ebdd403a61c4af29506876013c1db80",
            "6c0b1373e35642308d30d7bde522196c",
            "3bc213ed44504cdaab6f01f8eb7cdad2",
            "06f9673245504249876cb2b20d2c747f",
            "c753fa61f18140c8b601a3c7837e15c3",
            "2321a32e555245aab1a5873701382338",
            "f64aef0c4d7b4b478dc566a8ec01d084",
            "940b5ae483c648818d18a67fefef9e88",
            "6165c477f3344f118971d33d2a36a9b2",
            "0f92d9c4625d4777b1847832dfbde34b",
            "4beb968f0f954d568ff6699b208a5702",
            "c357ae705c454a92b5e6d6e2eb9ba768",
            "ac7ada271e1a426f99efb24a1a4ae551",
            "49e5d1d27adb4d99b3e300b9e6ff49fc",
            "bb0d73549063439782aa7503c7351d43",
            "d095b5e4643b4f559386d03d05f7bee7",
            "9fc5d723a20c433591fd336d91ba7d3a",
            "f0d49341d8e8443082cd2129b91cd7ce",
            "ce6c127461194141a285ad180a9c6038",
            "a83049e656d647c2a75e4c790e7507a5",
            "cd7b264633cd49de84d999e2dc64d5be",
            "52c12efbd24f439782a7417a43740ed1",
            "812e3c975c81449cb4f0607bf4426cf1",
            "d9aa554053114e58b1a7781837556693",
            "82bf328e5b1248359ba052d86701a0da",
            "4cf5fe9c635c4e9688a87717ce3e98b3",
            "91efa53c82014c349eb3227641b7c7c6",
            "762d5630d99c427dad6200ec3a8ce11b",
            "10fdb1505ec0487398a1e25c878619b8",
            "2185f33656444b0a842a3048c15e4eec",
            "5f79dab3afa44151aafaf60dd7b304bd",
            "1cfbbc0500204bb4b13b8ad1b1660559",
            "3320644587ef4aa3a1e7be76fcacba31",
            "52dc2968744448c4af651f1ed556809f",
            "5bd627499b6e48a78346689cce44657e",
            "e6f880170fa04ff281315a66b8914194",
            "52910c42075a429e81b8cf2f6a6708ec",
            "a6c40c690ff240889f3bdf19aad7ca3c",
            "ccce07f9d0cc4e4c8f229bf3c503f2de",
            "ad1ba2bd80da40c680db8fabab90a74f",
            "e1c53decca6a4278a6bb1f065c7a43cd",
            "c099504f95ce4427a45bd070405edefb",
            "e9c6d81a33b8444fa2f54827544f1e0e"
          ]
        },
        "id": "_IixQrDA-QLG",
        "outputId": "969410a9-6703-4992-8916-d16addb42c51"
      },
      "outputs": [],
      "source": [
        "dataset_train = datasets.FashionMNIST(root = './datas' , download=True , transform=tf , train=True)\n",
        "dataset_test  = datasets.FashionMNIST(root = './datas' , download=False , transform=tf , train=False)"
      ]
    },
    {
      "attachments": {},
      "cell_type": "markdown",
      "metadata": {},
      "source": [
        "Name of classes"
      ]
    },
    {
      "cell_type": "code",
      "execution_count": 9,
      "metadata": {
        "colab": {
          "base_uri": "https://localhost:8080/"
        },
        "id": "4DaQV9dD5_Jp",
        "outputId": "aca8fb7e-ed58-4750-e6df-0e862fb886c1"
      },
      "outputs": [
        {
          "name": "stdout",
          "output_type": "stream",
          "text": [
            "{0: 'T-shirt/top', 1: 'Trouser', 2: 'Pullover', 3: 'Dress', 4: 'Coat', 5: 'Sandal', 6: 'Shirt', 7: 'Sneaker', 8: 'Bag', 9: 'Ankle boot'}\n"
          ]
        }
      ],
      "source": [
        "classes = dict(zip(range(10) ,dataset_train.classes))\n",
        "print(classes)"
      ]
    },
    {
      "attachments": {},
      "cell_type": "markdown",
      "metadata": {},
      "source": [
        "Split datasets into new order `80:20`"
      ]
    },
    {
      "cell_type": "code",
      "execution_count": 10,
      "metadata": {
        "id": "7_3bHdrLnqTz"
      },
      "outputs": [],
      "source": [
        "full_dataset = ConcatDataset([dataset_train, dataset_test])\n",
        "train_size =int( (len(dataset_train) + len(dataset_test) ) * 0.8)\n",
        "test_size = (len(dataset_train) + len(dataset_test) ) - train_size\n",
        "train_set, test_set = random_split(full_dataset, [train_size, test_size])"
      ]
    },
    {
      "cell_type": "code",
      "execution_count": 11,
      "metadata": {
        "colab": {
          "base_uri": "https://localhost:8080/"
        },
        "id": "xeqM8h9xnjiM",
        "outputId": "5a517c05-e596-4e53-a57c-0b53b397be09"
      },
      "outputs": [
        {
          "name": "stdout",
          "output_type": "stream",
          "text": [
            "train set size: 56000\n",
            "test set size: 14000\n"
          ]
        }
      ],
      "source": [
        "print(f'train set size: {len(train_set)}')\n",
        "print(f'test set size: {len(test_set)}')"
      ]
    },
    {
      "attachments": {},
      "cell_type": "markdown",
      "metadata": {
        "id": "Oo--h5-F5I8I"
      },
      "source": [
        "Visualize Random data"
      ]
    },
    {
      "cell_type": "code",
      "execution_count": null,
      "metadata": {
        "id": "vKmInQza5ZNw"
      },
      "outputs": [],
      "source": [
        "def Imshow(img):\n",
        "  img = img/2 + 0.5 #denormalize\n",
        "  npimg = img.numpy()\n",
        "  plt.figure(figsize=(8,8))\n",
        "  plt.imshow(npimg[0] , 'Greys')\n",
        "  plt.axis('off')\n",
        "  plt.show()"
      ]
    },
    {
      "cell_type": "code",
      "execution_count": null,
      "metadata": {
        "colab": {
          "base_uri": "https://localhost:8080/",
          "height": 535
        },
        "id": "Kwp4saAR5YaT",
        "outputId": "cdb7fd46-e11a-4742-d6c1-fc0d0f405aad"
      },
      "outputs": [
        {
          "data": {
            "image/png": "[encoded data removed]",
            "text/plain": [
              "<Figure size 800x800 with 1 Axes>"
            ]
          },
          "metadata": {},
          "output_type": "display_data"
        },
        {
          "data": {
            "text/plain": [
              "[['Coat', 'Shirt', 'Bag', 'Shirt'],\n",
              " ['Shirt', 'Shirt', 'Sneaker', 'Ankle boot'],\n",
              " ['T-shirt/top', 'Shirt', 'Sneaker', 'Sandal'],\n",
              " ['T-shirt/top', 'T-shirt/top', 'Bag', 'Coat']]"
            ]
          },
          "execution_count": 10,
          "metadata": {},
          "output_type": "execute_result"
        }
      ],
      "source": [
        "torch.manual_seed(15)\n",
        "images , labels = next(iter(DataLoader(train_set , 16 , shuffle=True)))\n",
        "\n",
        "Imshow(torchvision.utils.make_grid(images , 4))\n",
        "[[classes[labels[4*j+i].item()] for i in range(int(16/4))] for j in range(int(16/4))]"
      ]
    },
    {
      "attachments": {},
      "cell_type": "markdown",
      "metadata": {
        "id": "IcZKsOqu6hfn"
      },
      "source": [
        "## Network"
      ]
    },
    {
      "cell_type": "markdown",
      "metadata": {
        "id": "jTSAd9ef8130"
      },
      "source": [
        "Architecture 3 : *Define Network*\n",
        "<br>\n",
        "Paper's Optimal Parameters\n",
        "\n",
        "*   Batch size = `128`\n",
        "*   Activation function = `softmax`\n",
        "*   Optimizer = `Adam`\n",
        "*   Dropout = `0.25` after each pooling layer,\n",
        "*   Epoch = `50`\n",
        "*   Kernel size = `2×2`"
      ]
    },
    {
      "cell_type": "code",
      "execution_count": 12,
      "metadata": {
        "id": "sDbPvMiIDikl"
      },
      "outputs": [],
      "source": [
        "class Net_architecture_3(nn.Module):\n",
        "    def __init__(self):\n",
        "        super(Net_architecture_3 , self).__init__()\n",
        "        \n",
        "        self.Conv2D_1 = nn.Conv2d(1 , 64 , 2)\n",
        "        # POOLING\n",
        "        self.dropout_1 = nn.Dropout(0.25)\n",
        "        self.Conv2D_2 = nn.Conv2d(64 , 64 , 2)\n",
        "        # POOLING\n",
        "        self.dropout_2 = nn.Dropout(0.25)\n",
        "        self.Conv2D_3 = nn.Conv2d(64 , 64 , 2)\n",
        "        self.dropout_3 = nn.Dropout(0.25)\n",
        "        self.hidden_neurons = nn.Linear(64 * 5 * 5 , 64)\n",
        "        self.dropout_4 = nn.Dropout(0.25)\n",
        "        self.fc_out = nn.Linear(64 , 10)\n",
        "\n",
        "    def forward(self , x):\n",
        "        x = torch.softmax(self.Conv2D_1(x),-1)\n",
        "        x = torch.max_pool2d(x , 2)\n",
        "        x = self.dropout_1(x)\n",
        "        x = torch.softmax(self.Conv2D_2(x),-1)\n",
        "        x = torch.max_pool2d(x , 2)\n",
        "        x = self.dropout_2(x)\n",
        "        x = torch.softmax(self.Conv2D_3(x),-1)\n",
        "        x = self.dropout_3(x)\n",
        "        x = torch.flatten(x , 1)\n",
        "        x = torch.softmax(self.hidden_neurons(x),-1)\n",
        "        x = self.dropout_4(x)\n",
        "        x = torch.softmax(self.fc_out(x) , -1)\n",
        "        return x"
      ]
    },
    {
      "cell_type": "code",
      "execution_count": null,
      "metadata": {
        "colab": {
          "base_uri": "https://localhost:8080/"
        },
        "id": "Bwak7diGqzQP",
        "outputId": "c2f1cd05-5104-479c-aa2c-d39517c3209c"
      },
      "outputs": [
        {
          "name": "stdout",
          "output_type": "stream",
          "text": [
            "----------------------------------------------------------------\n",
            "        Layer (type)               Output Shape         Param #\n",
            "================================================================\n",
            "            Conv2d-1           [-1, 64, 27, 27]             320\n",
            "           Dropout-2           [-1, 64, 13, 13]               0\n",
            "            Conv2d-3           [-1, 64, 12, 12]          16,448\n",
            "           Dropout-4             [-1, 64, 6, 6]               0\n",
            "            Conv2d-5             [-1, 64, 5, 5]          16,448\n",
            "           Dropout-6             [-1, 64, 5, 5]               0\n",
            "            Linear-7                   [-1, 64]         102,464\n",
            "           Dropout-8                   [-1, 64]               0\n",
            "            Linear-9                   [-1, 10]             650\n",
            "================================================================\n",
            "Total params: 136,330\n",
            "Trainable params: 136,330\n",
            "Non-trainable params: 0\n",
            "----------------------------------------------------------------\n",
            "Input size (MB): 0.00\n",
            "Forward/backward pass size (MB): 0.55\n",
            "Params size (MB): 0.52\n",
            "Estimated Total Size (MB): 1.07\n",
            "----------------------------------------------------------------\n"
          ]
        }
      ],
      "source": [
        "torch.manual_seed(15)\n",
        "net3 = Net_architecture_3().to(device=device)\n",
        "summary(net3 , (1,28,28))"
      ]
    },
    {
      "cell_type": "markdown",
      "metadata": {
        "id": "CtWDdUJPfe21"
      },
      "source": [
        "Architecture 5 : *Define Network*\n",
        "<br>\n",
        "Paper's Optimal Parameters\n",
        "\n",
        "*   Batch size = `128`\n",
        "*   Activation function = `softmax`\n",
        "*   Optimizer = `RMSprop`\n",
        "*   Dropout = `0.25` after each pooling layer,\n",
        "*   Epoch = `50`\n",
        "*   Kernel size = `3×3`"
      ]
    },
    {
      "cell_type": "code",
      "execution_count": 13,
      "metadata": {
        "id": "DtptA4t_fWKv"
      },
      "outputs": [],
      "source": [
        "class Net_architecture_5(nn.Module):\n",
        "    def __init__(self):\n",
        "        super(Net_architecture_5 , self).__init__()\n",
        "        \n",
        "        self.Conv2D_1 = nn.Conv2d(1 , 32 , 3)\n",
        "        self.Conv2D_2 = nn.Conv2d(32 , 32 , 3)\n",
        "        # POOLING\n",
        "        self.dropout_1 = nn.Dropout(0.25)\n",
        "        self.Conv2D_3 = nn.Conv2d(32 , 64 , 3)\n",
        "        self.Conv2D_4 = nn.Conv2d(64 , 64 , 3)\n",
        "        # POOLING\n",
        "        self.dropout_2 = nn.Dropout(0.25)\n",
        "        self.hidden_neurons = nn.Linear(64 * 4 * 4 , 512)\n",
        "        self.dropout_3 = nn.Dropout(0.25)\n",
        "        self.fc_out = nn.Linear(512 , 10)\n",
        "\n",
        "\n",
        "    def forward(self , x):\n",
        "        x = torch.softmax(self.Conv2D_1(x),-1)\n",
        "        x = torch.relu(self.Conv2D_2(x))\n",
        "        x = torch.max_pool2d(x , 2)\n",
        "        x = self.dropout_1(x)\n",
        "        x = torch.softmax(self.Conv2D_3(x),-1)\n",
        "        x = torch.softmax(self.Conv2D_4(x),-1)\n",
        "        x = torch.max_pool2d(x , 2)\n",
        "        x = self.dropout_2(x)\n",
        "        x = torch.flatten(x , 1)\n",
        "        x = torch.softmax(self.hidden_neurons(x),-1)\n",
        "        x = self.dropout_3(x)\n",
        "        x = torch.softmax(self.fc_out(x) , -1)\n",
        "        return x"
      ]
    },
    {
      "cell_type": "code",
      "execution_count": null,
      "metadata": {
        "colab": {
          "base_uri": "https://localhost:8080/"
        },
        "id": "i3gtRshK_pxm",
        "outputId": "dae93e10-d68a-49e0-9df5-a9425256206c"
      },
      "outputs": [
        {
          "name": "stdout",
          "output_type": "stream",
          "text": [
            "----------------------------------------------------------------\n",
            "        Layer (type)               Output Shape         Param #\n",
            "================================================================\n",
            "            Conv2d-1           [-1, 32, 26, 26]             320\n",
            "            Conv2d-2           [-1, 32, 24, 24]           9,248\n",
            "           Dropout-3           [-1, 32, 12, 12]               0\n",
            "            Conv2d-4           [-1, 64, 10, 10]          18,496\n",
            "            Conv2d-5             [-1, 64, 8, 8]          36,928\n",
            "           Dropout-6             [-1, 64, 4, 4]               0\n",
            "            Linear-7                  [-1, 512]         524,800\n",
            "           Dropout-8                  [-1, 512]               0\n",
            "            Linear-9                   [-1, 10]           5,130\n",
            "================================================================\n",
            "Total params: 594,922\n",
            "Trainable params: 594,922\n",
            "Non-trainable params: 0\n",
            "----------------------------------------------------------------\n",
            "Input size (MB): 0.00\n",
            "Forward/backward pass size (MB): 0.44\n",
            "Params size (MB): 2.27\n",
            "Estimated Total Size (MB): 2.71\n",
            "----------------------------------------------------------------\n"
          ]
        }
      ],
      "source": [
        "torch.manual_seed(15)\n",
        "net5 = Net_architecture_5().to(device=device)\n",
        "summary(net5 , (1,28,28))"
      ]
    },
    {
      "cell_type": "markdown",
      "metadata": {
        "id": "LEEhb5RDApJk"
      },
      "source": [
        "Set paper's Optimal Parameters"
      ]
    },
    {
      "cell_type": "code",
      "execution_count": 16,
      "metadata": {
        "id": "qMtABLonq_Jf"
      },
      "outputs": [],
      "source": [
        "ep = 50\n",
        "batch_size = 128\n",
        "criterion = nn.CrossEntropyLoss()\n",
        "# optimizer defined for each net later"
      ]
    },
    {
      "attachments": {},
      "cell_type": "markdown",
      "metadata": {
        "id": "15hdmc2gAfxt"
      },
      "source": [
        "## Train Nets"
      ]
    },
    {
      "cell_type": "markdown",
      "metadata": {
        "id": "7LE8EKQX_bBs"
      },
      "source": [
        "Dataloaders"
      ]
    },
    {
      "cell_type": "code",
      "execution_count": 17,
      "metadata": {
        "id": "ZGkbwSRTrHC8"
      },
      "outputs": [],
      "source": [
        "trainloader = DataLoader(train_set , batch_size = batch_size , shuffle=True)\n",
        "val_loader = DataLoader(test_set , batch_size = batch_size , shuffle=True)"
      ]
    },
    {
      "attachments": {},
      "cell_type": "markdown",
      "metadata": {
        "id": "9wG4Y67K_eFC"
      },
      "source": [
        "### net3 - optimizer Adam"
      ]
    },
    {
      "cell_type": "code",
      "execution_count": null,
      "metadata": {
        "colab": {
          "base_uri": "https://localhost:8080/"
        },
        "id": "xez5RPI7Ak4v",
        "outputId": "22f65356-c2bf-4431-c16f-0284fd6b1fea"
      },
      "outputs": [
        {
          "name": "stdout",
          "output_type": "stream",
          "text": [
            "epoch:  0 , T-loss: 2.300 , V-loss: 2.285\n",
            "epoch:  1 , T-loss: 2.241 , V-loss: 2.214\n",
            "epoch:  2 , T-loss: 2.200 , V-loss: 2.192\n",
            "epoch:  3 , T-loss: 2.186 , V-loss: 2.183\n",
            "epoch:  4 , T-loss: 2.180 , V-loss: 2.179\n",
            "epoch:  5 , T-loss: 2.176 , V-loss: 2.175\n",
            "epoch:  6 , T-loss: 2.168 , V-loss: 2.149\n",
            "epoch:  7 , T-loss: 2.128 , V-loss: 2.123\n",
            "epoch:  8 , T-loss: 2.117 , V-loss: 2.119\n",
            "epoch:  9 , T-loss: 2.112 , V-loss: 2.113\n",
            "epoch: 10 , T-loss: 2.109 , V-loss: 2.112\n",
            "epoch: 11 , T-loss: 2.108 , V-loss: 2.112\n",
            "epoch: 12 , T-loss: 2.107 , V-loss: 2.108\n",
            "epoch: 13 , T-loss: 2.106 , V-loss: 2.111\n",
            "epoch: 14 , T-loss: 2.106 , V-loss: 2.109\n",
            "epoch: 15 , T-loss: 2.106 , V-loss: 2.109\n",
            "epoch: 16 , T-loss: 2.103 , V-loss: 2.106\n",
            "epoch: 17 , T-loss: 2.103 , V-loss: 2.110\n",
            "epoch: 18 , T-loss: 2.104 , V-loss: 2.108\n",
            "epoch: 19 , T-loss: 2.102 , V-loss: 2.107\n",
            "epoch: 20 , T-loss: 2.104 , V-loss: 2.108\n",
            "epoch: 21 , T-loss: 2.103 , V-loss: 2.107\n",
            "epoch: 22 , T-loss: 2.101 , V-loss: 2.105\n",
            "epoch: 23 , T-loss: 2.102 , V-loss: 2.105\n",
            "epoch: 24 , T-loss: 2.099 , V-loss: 2.100\n",
            "epoch: 25 , T-loss: 2.092 , V-loss: 2.090\n",
            "epoch: 26 , T-loss: 2.082 , V-loss: 2.086\n",
            "epoch: 27 , T-loss: 2.077 , V-loss: 2.082\n",
            "epoch: 28 , T-loss: 2.072 , V-loss: 2.077\n",
            "epoch: 29 , T-loss: 2.069 , V-loss: 2.072\n",
            "epoch: 30 , T-loss: 2.066 , V-loss: 2.069\n",
            "epoch: 31 , T-loss: 2.060 , V-loss: 2.065\n",
            "epoch: 32 , T-loss: 2.056 , V-loss: 2.057\n",
            "epoch: 33 , T-loss: 2.050 , V-loss: 2.049\n",
            "epoch: 34 , T-loss: 2.043 , V-loss: 2.046\n",
            "epoch: 35 , T-loss: 2.039 , V-loss: 2.040\n",
            "epoch: 36 , T-loss: 2.036 , V-loss: 2.040\n",
            "epoch: 37 , T-loss: 2.030 , V-loss: 2.035\n",
            "epoch: 38 , T-loss: 2.027 , V-loss: 2.030\n",
            "epoch: 39 , T-loss: 2.023 , V-loss: 2.026\n",
            "epoch: 40 , T-loss: 2.020 , V-loss: 2.016\n",
            "epoch: 41 , T-loss: 2.015 , V-loss: 2.016\n",
            "epoch: 42 , T-loss: 2.010 , V-loss: 2.013\n",
            "epoch: 43 , T-loss: 2.008 , V-loss: 2.017\n",
            "epoch: 44 , T-loss: 2.004 , V-loss: 2.008\n",
            "epoch: 45 , T-loss: 2.001 , V-loss: 2.008\n",
            "epoch: 46 , T-loss: 1.998 , V-loss: 2.002\n",
            "epoch: 47 , T-loss: 1.995 , V-loss: 1.996\n",
            "epoch: 48 , T-loss: 1.995 , V-loss: 1.997\n",
            "epoch: 49 , T-loss: 1.992 , V-loss: 2.000\n"
          ]
        }
      ],
      "source": [
        "net3 = Net_architecture_3().to(device)\n",
        "optimizer = optim.Adam(net3.parameters())\n",
        "\n",
        "loss_arr = np.array([])\n",
        "val_loss_arr = np.array([])\n",
        "for epoch in range(ep):\n",
        "\n",
        "    train_loss = 0.0\n",
        "    for i, data in enumerate(trainloader):\n",
        "        img, label = data\n",
        "\n",
        "        optimizer.zero_grad()\n",
        "        output = net3(img.to(device))\n",
        "        loss = criterion(output, label.to(device))\n",
        "        loss.backward()\n",
        "        optimizer.step()\n",
        "        train_loss = loss.item() + train_loss\n",
        "    train_loss = train_loss / (i+1)\n",
        "    loss_arr = np.append(loss_arr , train_loss)\n",
        "\n",
        "    val_loss = 0.0\n",
        "    with torch.no_grad():\n",
        "        for i, data in enumerate(val_loader):\n",
        "                img, label = data\n",
        "                v_output = net3(img.to(device))\n",
        "                v_loss = criterion(v_output , label.to(device))\n",
        "                val_loss = val_loss + v_loss.item()\n",
        "    val_loss = val_loss / (i+1)\n",
        "    val_loss_arr = np.append(val_loss_arr , val_loss)\n",
        "    \n",
        "    print(f'epoch: {epoch :2d} , T-loss: {train_loss :.3f} , V-loss: {val_loss :.3f}')"
      ]
    },
    {
      "cell_type": "code",
      "execution_count": null,
      "metadata": {
        "colab": {
          "base_uri": "https://localhost:8080/",
          "height": 265
        },
        "id": "r4nZhU5ZkeA7",
        "outputId": "3d1b5c17-c902-4896-f43f-1d6169f1e9fd"
      },
      "outputs": [
        {
          "data": {
            "image/png": "[encoded data removed]",
            "text/plain": [
              "<Figure size 432x288 with 1 Axes>"
            ]
          },
          "metadata": {},
          "output_type": "display_data"
        }
      ],
      "source": [
        "plt.plot(loss_arr , label = 'Loss - net3 - Adam')\n",
        "plt.plot(val_loss_arr , label = 'Validation Loss - net3 - Adam')\n",
        "plt.grid()\n",
        "plt.legend()\n",
        "plt.show()"
      ]
    },
    {
      "cell_type": "code",
      "execution_count": null,
      "metadata": {
        "id": "9ioXIynzukf-"
      },
      "outputs": [],
      "source": [
        "path = './fation_net_arc3_adam.pth'\n",
        "torch.save(net3.state_dict() , path)"
      ]
    },
    {
      "attachments": {},
      "cell_type": "markdown",
      "metadata": {
        "id": "_iGjL5IaFb49"
      },
      "source": [
        "### net 5 - optimizer RMSprop"
      ]
    },
    {
      "cell_type": "code",
      "execution_count": null,
      "metadata": {
        "colab": {
          "base_uri": "https://localhost:8080/"
        },
        "id": "XC4AeIrDFb5A",
        "outputId": "e61c7e08-a6b1-4dd3-b004-6f869b392542"
      },
      "outputs": [
        {
          "name": "stdout",
          "output_type": "stream",
          "text": [
            "epoch:  0 , T-loss: 2.282 , V-loss: 2.266\n",
            "epoch:  1 , T-loss: 2.253 , V-loss: 2.234\n",
            "epoch:  2 , T-loss: 2.215 , V-loss: 2.198\n",
            "epoch:  3 , T-loss: 2.188 , V-loss: 2.179\n",
            "epoch:  4 , T-loss: 2.177 , V-loss: 2.174\n",
            "epoch:  5 , T-loss: 2.171 , V-loss: 2.168\n",
            "epoch:  6 , T-loss: 2.169 , V-loss: 2.166\n",
            "epoch:  7 , T-loss: 2.167 , V-loss: 2.164\n",
            "epoch:  8 , T-loss: 2.165 , V-loss: 2.164\n",
            "epoch:  9 , T-loss: 2.166 , V-loss: 2.166\n",
            "epoch: 10 , T-loss: 2.165 , V-loss: 2.161\n",
            "epoch: 11 , T-loss: 2.165 , V-loss: 2.165\n",
            "epoch: 12 , T-loss: 2.164 , V-loss: 2.163\n",
            "epoch: 13 , T-loss: 2.162 , V-loss: 2.158\n",
            "epoch: 14 , T-loss: 2.156 , V-loss: 2.157\n",
            "epoch: 15 , T-loss: 2.146 , V-loss: 2.141\n",
            "epoch: 16 , T-loss: 2.134 , V-loss: 2.129\n",
            "epoch: 17 , T-loss: 2.121 , V-loss: 2.111\n",
            "epoch: 18 , T-loss: 2.110 , V-loss: 2.109\n",
            "epoch: 19 , T-loss: 2.102 , V-loss: 2.098\n",
            "epoch: 20 , T-loss: 2.096 , V-loss: 2.090\n",
            "epoch: 21 , T-loss: 2.090 , V-loss: 2.085\n",
            "epoch: 22 , T-loss: 2.085 , V-loss: 2.085\n",
            "epoch: 23 , T-loss: 2.079 , V-loss: 2.074\n",
            "epoch: 24 , T-loss: 2.069 , V-loss: 2.060\n",
            "epoch: 25 , T-loss: 2.056 , V-loss: 2.051\n",
            "epoch: 26 , T-loss: 2.046 , V-loss: 2.054\n",
            "epoch: 27 , T-loss: 2.036 , V-loss: 2.038\n",
            "epoch: 28 , T-loss: 2.027 , V-loss: 2.029\n",
            "epoch: 29 , T-loss: 2.019 , V-loss: 2.033\n",
            "epoch: 30 , T-loss: 2.014 , V-loss: 2.014\n",
            "epoch: 31 , T-loss: 2.010 , V-loss: 2.008\n",
            "epoch: 32 , T-loss: 2.006 , V-loss: 2.002\n",
            "epoch: 33 , T-loss: 2.000 , V-loss: 2.029\n",
            "epoch: 34 , T-loss: 1.994 , V-loss: 2.012\n",
            "epoch: 35 , T-loss: 1.993 , V-loss: 1.989\n",
            "epoch: 36 , T-loss: 1.990 , V-loss: 2.002\n",
            "epoch: 37 , T-loss: 1.986 , V-loss: 1.985\n",
            "epoch: 38 , T-loss: 1.981 , V-loss: 1.981\n",
            "epoch: 39 , T-loss: 1.980 , V-loss: 2.008\n",
            "epoch: 40 , T-loss: 1.977 , V-loss: 1.980\n",
            "epoch: 41 , T-loss: 1.974 , V-loss: 1.987\n",
            "epoch: 42 , T-loss: 1.973 , V-loss: 1.969\n",
            "epoch: 43 , T-loss: 1.970 , V-loss: 1.974\n",
            "epoch: 44 , T-loss: 1.968 , V-loss: 1.969\n",
            "epoch: 45 , T-loss: 1.963 , V-loss: 1.963\n",
            "epoch: 46 , T-loss: 1.958 , V-loss: 1.961\n",
            "epoch: 47 , T-loss: 1.955 , V-loss: 1.972\n",
            "epoch: 48 , T-loss: 1.955 , V-loss: 1.961\n",
            "epoch: 49 , T-loss: 1.953 , V-loss: 1.954\n"
          ]
        }
      ],
      "source": [
        "net5 = Net_architecture_5().to(device)\n",
        "optimizer = optim.RMSprop(net5.parameters() , 0.001)\n",
        "\n",
        "loss_arr = np.array([])\n",
        "val_loss_arr = np.array([])\n",
        "\n",
        "for epoch in range(ep):\n",
        "\n",
        "    train_loss = 0.0\n",
        "    for i, data in enumerate(trainloader):\n",
        "        img, label = data\n",
        "\n",
        "        optimizer.zero_grad()\n",
        "        output = net5(img.to(device))\n",
        "        loss = criterion(output, label.to(device))\n",
        "        loss.backward()\n",
        "        optimizer.step()\n",
        "        train_loss = loss.item() + train_loss\n",
        "    train_loss = train_loss / (i+1)\n",
        "    loss_arr = np.append(loss_arr , train_loss)\n",
        "\n",
        "    val_loss = 0.0\n",
        "    with torch.no_grad():\n",
        "        for i, data in enumerate(val_loader):\n",
        "                img, label = data\n",
        "                v_output = net5(img.to(device))\n",
        "                v_loss = criterion(v_output , label.to(device))\n",
        "                val_loss = val_loss + v_loss.item()\n",
        "    val_loss = val_loss / (i+1)\n",
        "    val_loss_arr = np.append(val_loss_arr , val_loss)\n",
        "    \n",
        "    print(f'epoch: {epoch :2d} , T-loss: {train_loss :.3f} , V-loss: {val_loss :.3f}')"
      ]
    },
    {
      "cell_type": "code",
      "execution_count": null,
      "metadata": {
        "colab": {
          "base_uri": "https://localhost:8080/",
          "height": 265
        },
        "id": "jDr2p0ctFb5F",
        "outputId": "e6186ffa-a278-4808-e62b-ef8b73bd2d0e"
      },
      "outputs": [
        {
          "data": {
            "image/png": "[encoded data removed]",
            "text/plain": [
              "<Figure size 432x288 with 1 Axes>"
            ]
          },
          "metadata": {},
          "output_type": "display_data"
        }
      ],
      "source": [
        "plt.plot(loss_arr , label = 'Loss - net5 - RMSprop')\n",
        "plt.plot(val_loss_arr , label = 'Validation Loss - net5 - RMSprop')\n",
        "plt.grid()\n",
        "plt.legend()\n",
        "plt.show()"
      ]
    },
    {
      "cell_type": "code",
      "execution_count": null,
      "metadata": {
        "id": "bBB9FMJeFb5G"
      },
      "outputs": [],
      "source": [
        "path = './fation_net_arc5_RMSprop.pth'\n",
        "torch.save(net5.state_dict() , path)"
      ]
    },
    {
      "attachments": {},
      "cell_type": "markdown",
      "metadata": {
        "id": "Jd-V6knnFkLj"
      },
      "source": [
        "### net5 - optimizer Adam"
      ]
    },
    {
      "cell_type": "code",
      "execution_count": null,
      "metadata": {
        "colab": {
          "base_uri": "https://localhost:8080/"
        },
        "id": "9cYYV1Ovu1L6",
        "outputId": "65692e09-cc73-40bb-daf5-72fc7bc93f85"
      },
      "outputs": [
        {
          "name": "stdout",
          "output_type": "stream",
          "text": [
            "epoch:  0 , T-loss: 2.288 , V-loss: 2.252\n",
            "epoch:  1 , T-loss: 2.226 , V-loss: 2.208\n",
            "epoch:  2 , T-loss: 2.199 , V-loss: 2.192\n",
            "epoch:  3 , T-loss: 2.186 , V-loss: 2.183\n",
            "epoch:  4 , T-loss: 2.180 , V-loss: 2.180\n",
            "epoch:  5 , T-loss: 2.177 , V-loss: 2.177\n",
            "epoch:  6 , T-loss: 2.174 , V-loss: 2.174\n",
            "epoch:  7 , T-loss: 2.173 , V-loss: 2.174\n",
            "epoch:  8 , T-loss: 2.171 , V-loss: 2.172\n",
            "epoch:  9 , T-loss: 2.170 , V-loss: 2.171\n",
            "epoch: 10 , T-loss: 2.169 , V-loss: 2.170\n",
            "epoch: 11 , T-loss: 2.169 , V-loss: 2.169\n",
            "epoch: 12 , T-loss: 2.168 , V-loss: 2.170\n",
            "epoch: 13 , T-loss: 2.168 , V-loss: 2.169\n",
            "epoch: 14 , T-loss: 2.167 , V-loss: 2.167\n",
            "epoch: 15 , T-loss: 2.162 , V-loss: 2.161\n",
            "epoch: 16 , T-loss: 2.149 , V-loss: 2.146\n",
            "epoch: 17 , T-loss: 2.136 , V-loss: 2.126\n",
            "epoch: 18 , T-loss: 2.096 , V-loss: 2.087\n",
            "epoch: 19 , T-loss: 2.077 , V-loss: 2.075\n",
            "epoch: 20 , T-loss: 2.068 , V-loss: 2.070\n",
            "epoch: 21 , T-loss: 2.062 , V-loss: 2.066\n",
            "epoch: 22 , T-loss: 2.056 , V-loss: 2.058\n",
            "epoch: 23 , T-loss: 2.051 , V-loss: 2.054\n",
            "epoch: 24 , T-loss: 2.046 , V-loss: 2.049\n",
            "epoch: 25 , T-loss: 2.038 , V-loss: 2.042\n",
            "epoch: 26 , T-loss: 2.035 , V-loss: 2.033\n",
            "epoch: 27 , T-loss: 2.029 , V-loss: 2.026\n",
            "epoch: 28 , T-loss: 2.021 , V-loss: 2.024\n",
            "epoch: 29 , T-loss: 2.017 , V-loss: 2.020\n",
            "epoch: 30 , T-loss: 2.013 , V-loss: 2.014\n",
            "epoch: 31 , T-loss: 2.007 , V-loss: 2.011\n",
            "epoch: 32 , T-loss: 2.003 , V-loss: 2.010\n",
            "epoch: 33 , T-loss: 1.997 , V-loss: 1.996\n",
            "epoch: 34 , T-loss: 1.989 , V-loss: 1.991\n",
            "epoch: 35 , T-loss: 1.978 , V-loss: 1.964\n",
            "epoch: 36 , T-loss: 1.946 , V-loss: 1.940\n",
            "epoch: 37 , T-loss: 1.932 , V-loss: 1.939\n",
            "epoch: 38 , T-loss: 1.930 , V-loss: 1.928\n",
            "epoch: 39 , T-loss: 1.923 , V-loss: 1.927\n",
            "epoch: 40 , T-loss: 1.921 , V-loss: 1.930\n",
            "epoch: 41 , T-loss: 1.918 , V-loss: 1.924\n",
            "epoch: 42 , T-loss: 1.916 , V-loss: 1.918\n",
            "epoch: 43 , T-loss: 1.915 , V-loss: 1.914\n",
            "epoch: 44 , T-loss: 1.911 , V-loss: 1.916\n",
            "epoch: 45 , T-loss: 1.906 , V-loss: 1.914\n",
            "epoch: 46 , T-loss: 1.909 , V-loss: 1.908\n",
            "epoch: 47 , T-loss: 1.907 , V-loss: 1.908\n",
            "epoch: 48 , T-loss: 1.903 , V-loss: 1.912\n",
            "epoch: 49 , T-loss: 1.902 , V-loss: 1.909\n"
          ]
        }
      ],
      "source": [
        "net5 = Net_architecture_5().to(device)\n",
        "optimizer = optim.Adam(net5.parameters())\n",
        "\n",
        "loss_arr = np.array([])\n",
        "val_loss_arr = np.array([])\n",
        "\n",
        "for epoch in range(ep):\n",
        "\n",
        "    train_loss = 0.0\n",
        "    for i, data in enumerate(trainloader):\n",
        "        img, label = data\n",
        "\n",
        "        optimizer.zero_grad()\n",
        "        output = net5(img.to(device))\n",
        "        loss = criterion(output, label.to(device))\n",
        "        loss.backward()\n",
        "        optimizer.step()\n",
        "        train_loss = loss.item() + train_loss\n",
        "    train_loss = train_loss / (i+1)\n",
        "    loss_arr = np.append(loss_arr , train_loss)\n",
        "\n",
        "    val_loss = 0.0\n",
        "    with torch.no_grad():\n",
        "        for i, data in enumerate(val_loader):\n",
        "                img, label = data\n",
        "                v_output = net5(img.to(device))\n",
        "                v_loss = criterion(v_output , label.to(device))\n",
        "                val_loss = val_loss + v_loss.item()\n",
        "    val_loss = val_loss / (i+1)\n",
        "    val_loss_arr = np.append(val_loss_arr , val_loss)\n",
        "    \n",
        "    print(f'epoch: {epoch :2d} , T-loss: {train_loss :.3f} , V-loss: {val_loss :.3f}')"
      ]
    },
    {
      "cell_type": "code",
      "execution_count": null,
      "metadata": {
        "colab": {
          "base_uri": "https://localhost:8080/",
          "height": 266
        },
        "id": "1ZzAyxj6u4-i",
        "outputId": "d3ad259f-8a90-49a7-9456-7d1f0cfe858f"
      },
      "outputs": [
        {
          "data": {
            "image/png": "[encoded data removed]",
            "text/plain": [
              "<Figure size 432x288 with 1 Axes>"
            ]
          },
          "metadata": {},
          "output_type": "display_data"
        }
      ],
      "source": [
        "plt.plot(loss_arr , label = 'Loss - net5 - Adam')\n",
        "plt.plot(val_loss_arr , label = 'Validation Loss - net5 - Adam')\n",
        "plt.grid()\n",
        "plt.legend()\n",
        "plt.show()"
      ]
    },
    {
      "cell_type": "code",
      "execution_count": null,
      "metadata": {
        "id": "oa7OKYcau7Wo"
      },
      "outputs": [],
      "source": [
        "path = './fation_net_arc5_Adam.pth'\n",
        "torch.save(net5.state_dict() , path)"
      ]
    },
    {
      "attachments": {},
      "cell_type": "markdown",
      "metadata": {
        "id": "BVxoCy05I4sM"
      },
      "source": [
        "### net3 - optimizer SGD"
      ]
    },
    {
      "cell_type": "code",
      "execution_count": null,
      "metadata": {
        "colab": {
          "base_uri": "https://localhost:8080/"
        },
        "id": "HpASjVDmI4sO",
        "outputId": "c9b4d616-ac90-47fe-8ef9-34a04569c591"
      },
      "outputs": [
        {
          "name": "stdout",
          "output_type": "stream",
          "text": [
            "epoch:  0 , T-loss: 2.303 , V-loss: 2.303\n",
            "epoch:  1 , T-loss: 2.303 , V-loss: 2.303\n",
            "epoch:  2 , T-loss: 2.303 , V-loss: 2.303\n",
            "epoch:  3 , T-loss: 2.303 , V-loss: 2.303\n",
            "epoch:  4 , T-loss: 2.303 , V-loss: 2.303\n",
            "epoch:  5 , T-loss: 2.303 , V-loss: 2.303\n",
            "epoch:  6 , T-loss: 2.303 , V-loss: 2.303\n",
            "epoch:  7 , T-loss: 2.303 , V-loss: 2.303\n",
            "epoch:  8 , T-loss: 2.303 , V-loss: 2.303\n",
            "epoch:  9 , T-loss: 2.303 , V-loss: 2.303\n",
            "epoch: 10 , T-loss: 2.303 , V-loss: 2.303\n",
            "epoch: 11 , T-loss: 2.303 , V-loss: 2.303\n",
            "epoch: 12 , T-loss: 2.303 , V-loss: 2.303\n",
            "epoch: 13 , T-loss: 2.303 , V-loss: 2.303\n",
            "epoch: 14 , T-loss: 2.303 , V-loss: 2.303\n",
            "epoch: 15 , T-loss: 2.303 , V-loss: 2.303\n",
            "epoch: 16 , T-loss: 2.303 , V-loss: 2.303\n",
            "epoch: 17 , T-loss: 2.303 , V-loss: 2.303\n",
            "epoch: 18 , T-loss: 2.303 , V-loss: 2.303\n",
            "epoch: 19 , T-loss: 2.303 , V-loss: 2.303\n",
            "epoch: 20 , T-loss: 2.303 , V-loss: 2.303\n",
            "epoch: 21 , T-loss: 2.303 , V-loss: 2.303\n",
            "epoch: 22 , T-loss: 2.303 , V-loss: 2.303\n",
            "epoch: 23 , T-loss: 2.303 , V-loss: 2.303\n",
            "epoch: 24 , T-loss: 2.303 , V-loss: 2.303\n",
            "epoch: 25 , T-loss: 2.303 , V-loss: 2.303\n",
            "epoch: 26 , T-loss: 2.303 , V-loss: 2.303\n",
            "epoch: 27 , T-loss: 2.303 , V-loss: 2.303\n",
            "epoch: 28 , T-loss: 2.303 , V-loss: 2.303\n",
            "epoch: 29 , T-loss: 2.303 , V-loss: 2.303\n",
            "epoch: 30 , T-loss: 2.303 , V-loss: 2.303\n",
            "epoch: 31 , T-loss: 2.303 , V-loss: 2.303\n",
            "epoch: 32 , T-loss: 2.303 , V-loss: 2.303\n",
            "epoch: 33 , T-loss: 2.303 , V-loss: 2.303\n",
            "epoch: 34 , T-loss: 2.303 , V-loss: 2.303\n",
            "epoch: 35 , T-loss: 2.303 , V-loss: 2.303\n",
            "epoch: 36 , T-loss: 2.303 , V-loss: 2.303\n",
            "epoch: 37 , T-loss: 2.303 , V-loss: 2.303\n",
            "epoch: 38 , T-loss: 2.303 , V-loss: 2.303\n",
            "epoch: 39 , T-loss: 2.303 , V-loss: 2.303\n",
            "epoch: 40 , T-loss: 2.303 , V-loss: 2.303\n",
            "epoch: 41 , T-loss: 2.303 , V-loss: 2.303\n",
            "epoch: 42 , T-loss: 2.303 , V-loss: 2.303\n",
            "epoch: 43 , T-loss: 2.303 , V-loss: 2.303\n",
            "epoch: 44 , T-loss: 2.303 , V-loss: 2.303\n",
            "epoch: 45 , T-loss: 2.303 , V-loss: 2.303\n",
            "epoch: 46 , T-loss: 2.303 , V-loss: 2.303\n",
            "epoch: 47 , T-loss: 2.303 , V-loss: 2.303\n",
            "epoch: 48 , T-loss: 2.303 , V-loss: 2.303\n",
            "epoch: 49 , T-loss: 2.303 , V-loss: 2.303\n"
          ]
        }
      ],
      "source": [
        "net3 = Net_architecture_3().to(device)\n",
        "optimizer = optim.SGD(net3.parameters() , 0.001)\n",
        "\n",
        "loss_arr = np.array([])\n",
        "val_loss_arr = np.array([])\n",
        "for epoch in range(ep):\n",
        "\n",
        "    train_loss = 0.0\n",
        "    for i, data in enumerate(trainloader):\n",
        "        img, label = data\n",
        "\n",
        "        optimizer.zero_grad()\n",
        "        output = net3(img.to(device))\n",
        "        loss = criterion(output, label.to(device))\n",
        "        loss.backward()\n",
        "        optimizer.step()\n",
        "        train_loss = loss.item() + train_loss\n",
        "    train_loss = train_loss / (i+1)\n",
        "    loss_arr = np.append(loss_arr , train_loss)\n",
        "\n",
        "    val_loss = 0.0\n",
        "    with torch.no_grad():\n",
        "        for i, data in enumerate(val_loader):\n",
        "                img, label = data\n",
        "                v_output = net3(img.to(device))\n",
        "                v_loss = criterion(v_output , label.to(device))\n",
        "                val_loss = val_loss + v_loss.item()\n",
        "    val_loss = val_loss / (i+1)\n",
        "    val_loss_arr = np.append(val_loss_arr , val_loss)\n",
        "    \n",
        "    print(f'epoch: {epoch :2d} , T-loss: {train_loss :.3f} , V-loss: {val_loss :.3f}')"
      ]
    },
    {
      "cell_type": "code",
      "execution_count": null,
      "metadata": {
        "colab": {
          "base_uri": "https://localhost:8080/",
          "height": 276
        },
        "id": "iSwhUYmdI4sS",
        "outputId": "8a03b1ae-d087-4ebe-e3d1-36cb4f1e1757"
      },
      "outputs": [
        {
          "data": {
            "image/png": "[encoded data removed]",
            "text/plain": [
              "<Figure size 432x288 with 1 Axes>"
            ]
          },
          "metadata": {},
          "output_type": "display_data"
        }
      ],
      "source": [
        "plt.plot(loss_arr , label = 'Loss - net3 - SGD')\n",
        "plt.plot(val_loss_arr , label = 'Validation Loss - net3 - SGD')\n",
        "plt.grid()\n",
        "plt.legend()\n",
        "plt.show()"
      ]
    },
    {
      "cell_type": "code",
      "execution_count": null,
      "metadata": {
        "id": "EoEYADpCI4sU"
      },
      "outputs": [],
      "source": [
        "path = './fation_net_arc3_SGD.pth'\n",
        "torch.save(net3.state_dict() , path)"
      ]
    },
    {
      "attachments": {},
      "cell_type": "markdown",
      "metadata": {
        "id": "d9-lmZwbML8x"
      },
      "source": [
        "### net5 - optimizer SGD"
      ]
    },
    {
      "cell_type": "code",
      "execution_count": null,
      "metadata": {
        "colab": {
          "base_uri": "https://localhost:8080/"
        },
        "id": "DShGpi5qML81",
        "outputId": "005a2913-50d8-4d65-b2f0-eea4da416a4c"
      },
      "outputs": [
        {
          "name": "stdout",
          "output_type": "stream",
          "text": [
            "epoch:  0 , T-loss: 2.303 , V-loss: 2.303\n",
            "epoch:  1 , T-loss: 2.303 , V-loss: 2.303\n",
            "epoch:  2 , T-loss: 2.303 , V-loss: 2.303\n",
            "epoch:  3 , T-loss: 2.303 , V-loss: 2.303\n",
            "epoch:  4 , T-loss: 2.303 , V-loss: 2.303\n",
            "epoch:  5 , T-loss: 2.303 , V-loss: 2.303\n",
            "epoch:  6 , T-loss: 2.303 , V-loss: 2.303\n",
            "epoch:  7 , T-loss: 2.303 , V-loss: 2.303\n",
            "epoch:  8 , T-loss: 2.303 , V-loss: 2.303\n",
            "epoch:  9 , T-loss: 2.303 , V-loss: 2.303\n",
            "epoch: 10 , T-loss: 2.303 , V-loss: 2.303\n",
            "epoch: 11 , T-loss: 2.303 , V-loss: 2.303\n",
            "epoch: 12 , T-loss: 2.303 , V-loss: 2.303\n",
            "epoch: 13 , T-loss: 2.303 , V-loss: 2.303\n",
            "epoch: 14 , T-loss: 2.303 , V-loss: 2.303\n",
            "epoch: 15 , T-loss: 2.303 , V-loss: 2.303\n",
            "epoch: 16 , T-loss: 2.303 , V-loss: 2.303\n",
            "epoch: 17 , T-loss: 2.303 , V-loss: 2.303\n",
            "epoch: 18 , T-loss: 2.303 , V-loss: 2.303\n",
            "epoch: 19 , T-loss: 2.303 , V-loss: 2.303\n",
            "epoch: 20 , T-loss: 2.303 , V-loss: 2.303\n",
            "epoch: 21 , T-loss: 2.303 , V-loss: 2.303\n",
            "epoch: 22 , T-loss: 2.303 , V-loss: 2.303\n",
            "epoch: 23 , T-loss: 2.303 , V-loss: 2.303\n",
            "epoch: 24 , T-loss: 2.303 , V-loss: 2.303\n",
            "epoch: 25 , T-loss: 2.303 , V-loss: 2.303\n",
            "epoch: 26 , T-loss: 2.303 , V-loss: 2.303\n",
            "epoch: 27 , T-loss: 2.303 , V-loss: 2.303\n",
            "epoch: 28 , T-loss: 2.303 , V-loss: 2.303\n",
            "epoch: 29 , T-loss: 2.303 , V-loss: 2.303\n",
            "epoch: 30 , T-loss: 2.303 , V-loss: 2.303\n",
            "epoch: 31 , T-loss: 2.303 , V-loss: 2.303\n",
            "epoch: 32 , T-loss: 2.303 , V-loss: 2.303\n",
            "epoch: 33 , T-loss: 2.303 , V-loss: 2.303\n",
            "epoch: 34 , T-loss: 2.303 , V-loss: 2.303\n",
            "epoch: 35 , T-loss: 2.303 , V-loss: 2.303\n",
            "epoch: 36 , T-loss: 2.303 , V-loss: 2.303\n",
            "epoch: 37 , T-loss: 2.303 , V-loss: 2.303\n",
            "epoch: 38 , T-loss: 2.303 , V-loss: 2.303\n",
            "epoch: 39 , T-loss: 2.303 , V-loss: 2.303\n",
            "epoch: 40 , T-loss: 2.303 , V-loss: 2.303\n",
            "epoch: 41 , T-loss: 2.303 , V-loss: 2.303\n",
            "epoch: 42 , T-loss: 2.303 , V-loss: 2.303\n",
            "epoch: 43 , T-loss: 2.303 , V-loss: 2.303\n",
            "epoch: 44 , T-loss: 2.303 , V-loss: 2.303\n",
            "epoch: 45 , T-loss: 2.303 , V-loss: 2.303\n",
            "epoch: 46 , T-loss: 2.303 , V-loss: 2.303\n",
            "epoch: 47 , T-loss: 2.303 , V-loss: 2.303\n",
            "epoch: 48 , T-loss: 2.303 , V-loss: 2.303\n",
            "epoch: 49 , T-loss: 2.303 , V-loss: 2.303\n"
          ]
        }
      ],
      "source": [
        "net5 = Net_architecture_5().to(device)\n",
        "optimizer = optim.SGD(net5.parameters() , 0.001)\n",
        "\n",
        "loss_arr = np.array([])\n",
        "val_loss_arr = np.array([])\n",
        "\n",
        "for epoch in range(ep):\n",
        "\n",
        "    train_loss = 0.0\n",
        "    for i, data in enumerate(trainloader):\n",
        "        img, label = data\n",
        "\n",
        "        optimizer.zero_grad()\n",
        "        output = net5(img.to(device))\n",
        "        loss = criterion(output, label.to(device))\n",
        "        loss.backward()\n",
        "        optimizer.step()\n",
        "        train_loss = loss.item() + train_loss\n",
        "    train_loss = train_loss / (i+1)\n",
        "    loss_arr = np.append(loss_arr , train_loss)\n",
        "\n",
        "    val_loss = 0.0\n",
        "    with torch.no_grad():\n",
        "        for i, data in enumerate(val_loader):\n",
        "                img, label = data\n",
        "                v_output = net5(img.to(device))\n",
        "                v_loss = criterion(v_output , label.to(device))\n",
        "                val_loss = val_loss + v_loss.item()\n",
        "    val_loss = val_loss / (i+1)\n",
        "    val_loss_arr = np.append(val_loss_arr , val_loss)\n",
        "    \n",
        "    print(f'epoch: {epoch :2d} , T-loss: {train_loss :.3f} , V-loss: {val_loss :.3f}')"
      ]
    },
    {
      "cell_type": "code",
      "execution_count": null,
      "metadata": {
        "colab": {
          "base_uri": "https://localhost:8080/",
          "height": 276
        },
        "id": "-WpIM98jML89",
        "outputId": "814f5036-2b7b-431c-a05c-29ca74db8ac9"
      },
      "outputs": [
        {
          "data": {
            "image/png": "[encoded data removed]",
            "text/plain": [
              "<Figure size 432x288 with 1 Axes>"
            ]
          },
          "metadata": {},
          "output_type": "display_data"
        }
      ],
      "source": [
        "plt.plot(loss_arr , label = 'Loss - net5 - SGD')\n",
        "plt.plot(val_loss_arr , label = 'Validation Loss - net5 - SGD')\n",
        "plt.grid()\n",
        "plt.legend()\n",
        "plt.show()"
      ]
    },
    {
      "cell_type": "code",
      "execution_count": null,
      "metadata": {
        "id": "o7K7myZCML9A"
      },
      "outputs": [],
      "source": [
        "path = './fation_net_arc5_SGD.pth'\n",
        "torch.save(net5.state_dict() , path)"
      ]
    },
    {
      "attachments": {},
      "cell_type": "markdown",
      "metadata": {
        "id": "p4mt8rIXQ_BK"
      },
      "source": [
        "## Test Networks"
      ]
    },
    {
      "cell_type": "code",
      "execution_count": 18,
      "metadata": {
        "id": "7O8jgHE1Zw4V"
      },
      "outputs": [],
      "source": [
        "testloader = DataLoader(dataset_test , len(dataset_test) , shuffle=False)\n",
        "img_t , label_t = next(iter(testloader))"
      ]
    },
    {
      "attachments": {},
      "cell_type": "markdown",
      "metadata": {},
      "source": [
        "* accuracy\n",
        "* precision\n",
        "* f1-score"
      ]
    },
    {
      "cell_type": "code",
      "execution_count": 19,
      "metadata": {
        "id": "aEf4Zeg7Zw4W"
      },
      "outputs": [],
      "source": [
        "accuracy_score = Accuracy()\n",
        "precision_score = Precision(average='macro', num_classes=10)\n",
        "f1_score = F1Score(num_classes=10)\n",
        "\n",
        "def predict(net , img , label):\n",
        "    net.eval()\n",
        "    with torch.no_grad():\n",
        "        tp = torch.argmax(net(img.to(device)) , 1)\n",
        "    accuracy = accuracy_score(tp.cpu() , label)\n",
        "    precision = precision_score(tp.cpu() , label)\n",
        "    f1 = f1_score(tp.cpu() , label)\n",
        "    return accuracy.item() , precision.item() , f1.item()"
      ]
    },
    {
      "cell_type": "code",
      "execution_count": 24,
      "metadata": {
        "colab": {
          "base_uri": "https://localhost:8080/"
        },
        "id": "DFL-WgLOZw4W",
        "outputId": "12e20c78-2e43-45db-e528-aa05f1edac49"
      },
      "outputs": [
        {
          "data": {
            "text/plain": [
              "(0.7146999835968018, 0.6258241534233093, 0.7146999835968018)"
            ]
          },
          "execution_count": 24,
          "metadata": {},
          "output_type": "execute_result"
        }
      ],
      "source": [
        "path3 = './fation_net_arc3_adam.pth'\n",
        "\n",
        "net3 = Net_architecture_3().to(device)\n",
        "net3.load_state_dict(torch.load(path3 , map_location=device))\n",
        "\n",
        "predict(net3 , img_t , label_t)"
      ]
    },
    {
      "cell_type": "code",
      "execution_count": 25,
      "metadata": {
        "colab": {
          "base_uri": "https://localhost:8080/"
        },
        "id": "0ssceJLdZw4X",
        "outputId": "63fd8b21-62c4-4654-90bb-0dfcf125defb"
      },
      "outputs": [
        {
          "data": {
            "text/plain": [
              "(0.8079000115394592, 0.751121461391449, 0.8079000115394592)"
            ]
          },
          "execution_count": 25,
          "metadata": {},
          "output_type": "execute_result"
        }
      ],
      "source": [
        "path5 = './fation_net_arc5_RMSprop.pth'\n",
        "\n",
        "net5 = Net_architecture_5().to(device)\n",
        "net5.load_state_dict(torch.load(path5 , map_location=device))\n",
        "\n",
        "predict(net5 , img_t , label_t)"
      ]
    },
    {
      "cell_type": "code",
      "execution_count": 27,
      "metadata": {
        "colab": {
          "base_uri": "https://localhost:8080/"
        },
        "id": "1yyVKpJnapy4",
        "outputId": "3dbded68-eeb2-4152-d0cd-16570ca5eb15"
      },
      "outputs": [
        {
          "data": {
            "text/plain": [
              "(0.7716000080108643, 0.7311774492263794, 0.771600067615509)"
            ]
          },
          "execution_count": 27,
          "metadata": {},
          "output_type": "execute_result"
        }
      ],
      "source": [
        "path5 = './fation_net_arc5_Adam.pth'\n",
        "\n",
        "net5 = Net_architecture_5().to(device)\n",
        "net5.load_state_dict(torch.load(path5 , map_location=device))\n",
        "\n",
        "predict(net5 , img_t , label_t)"
      ]
    },
    {
      "cell_type": "code",
      "execution_count": 26,
      "metadata": {
        "colab": {
          "base_uri": "https://localhost:8080/"
        },
        "id": "I1UKbksCan0G",
        "outputId": "fcca53ad-a582-400b-f496-84771a33400b"
      },
      "outputs": [
        {
          "data": {
            "text/plain": [
              "(0.10000000149011612, 0.010000000707805157, 0.10000000894069672)"
            ]
          },
          "execution_count": 26,
          "metadata": {},
          "output_type": "execute_result"
        }
      ],
      "source": [
        "path3 = './fation_net_arc3_SGD.pth'\n",
        "\n",
        "net3 = Net_architecture_3().to(device)\n",
        "net3.load_state_dict(torch.load(path3 , map_location=device))\n",
        "\n",
        "predict(net3 , img_t , label_t)"
      ]
    },
    {
      "cell_type": "code",
      "execution_count": 28,
      "metadata": {
        "colab": {
          "base_uri": "https://localhost:8080/"
        },
        "id": "RWXc5i3gbI8V",
        "outputId": "8f3ee639-8994-40bf-d9de-035ef7426fd9"
      },
      "outputs": [
        {
          "data": {
            "text/plain": [
              "(0.10000000149011612, 0.010000000707805157, 0.10000000894069672)"
            ]
          },
          "execution_count": 28,
          "metadata": {},
          "output_type": "execute_result"
        }
      ],
      "source": [
        "path5 = './fation_net_arc5_SGD.pth'\n",
        "\n",
        "net5 = Net_architecture_5().to(device)\n",
        "net5.load_state_dict(torch.load(path5 , map_location=device))\n",
        "\n",
        "predict(net5 , img_t , label_t)"
      ]
    }
  ],
  "metadata": {
    "accelerator": "GPU",
    "colab": {
      "collapsed_sections": [
        "-EgfpJgbiiJu",
        "Eyyg4DdtiiJx",
        "3RTdxssyiiKC",
        "ZlOCovOI80dI",
        "9wG4Y67K_eFC",
        "_iGjL5IaFb49",
        "Jd-V6knnFkLj",
        "BVxoCy05I4sM",
        "d9-lmZwbML8x"
      ],
      "provenance": []
    },
    "gpuClass": "standard",
    "kernelspec": {
      "display_name": "Python 3 (ipykernel)",
      "language": "python",
      "name": "python3"
    },
    "language_info": {
      "codemirror_mode": {
        "name": "ipython",
        "version": 3
      },
      "file_extension": ".py",
      "mimetype": "text/x-python",
      "name": "python",
      "nbconvert_exporter": "python",
      "pygments_lexer": "ipython3",
      "version": "3.10.8"
    },
    "vscode": {
      "interpreter": {
        "hash": "809d01ba06e2e446a8543f322d3ab59c8b19101d26aad2a35e78331c2f4dfd29"
      }
    },
    "widgets": {
      "application/vnd.jupyter.widget-state+json": {
        "06f9673245504249876cb2b20d2c747f": {
          "model_module": "@jupyter-widgets/base",
          "model_module_version": "1.2.0",
          "model_name": "LayoutModel",
          "state": {
            "_model_module": "@jupyter-widgets/base",
            "_model_module_version": "1.2.0",
            "_model_name": "LayoutModel",
            "_view_count": null,
            "_view_module": "@jupyter-widgets/base",
            "_view_module_version": "1.2.0",
            "_view_name": "LayoutView",
            "align_content": null,
            "align_items": null,
            "align_self": null,
            "border": null,
            "bottom": null,
            "display": null,
            "flex": null,
            "flex_flow": null,
            "grid_area": null,
            "grid_auto_columns": null,
            "grid_auto_flow": null,
            "grid_auto_rows": null,
            "grid_column": null,
            "grid_gap": null,
            "grid_row": null,
            "grid_template_areas": null,
            "grid_template_columns": null,
            "grid_template_rows": null,
            "height": null,
            "justify_content": null,
            "justify_items": null,
            "left": null,
            "margin": null,
            "max_height": null,
            "max_width": null,
            "min_height": null,
            "min_width": null,
            "object_fit": null,
            "object_position": null,
            "order": null,
            "overflow": null,
            "overflow_x": null,
            "overflow_y": null,
            "padding": null,
            "right": null,
            "top": null,
            "visibility": null,
            "width": null
          }
        },
        "0f92d9c4625d4777b1847832dfbde34b": {
          "model_module": "@jupyter-widgets/controls",
          "model_module_version": "1.5.0",
          "model_name": "DescriptionStyleModel",
          "state": {
            "_model_module": "@jupyter-widgets/controls",
            "_model_module_version": "1.5.0",
            "_model_name": "DescriptionStyleModel",
            "_view_count": null,
            "_view_module": "@jupyter-widgets/base",
            "_view_module_version": "1.2.0",
            "_view_name": "StyleView",
            "description_width": ""
          }
        },
        "10fdb1505ec0487398a1e25c878619b8": {
          "model_module": "@jupyter-widgets/base",
          "model_module_version": "1.2.0",
          "model_name": "LayoutModel",
          "state": {
            "_model_module": "@jupyter-widgets/base",
            "_model_module_version": "1.2.0",
            "_model_name": "LayoutModel",
            "_view_count": null,
            "_view_module": "@jupyter-widgets/base",
            "_view_module_version": "1.2.0",
            "_view_name": "LayoutView",
            "align_content": null,
            "align_items": null,
            "align_self": null,
            "border": null,
            "bottom": null,
            "display": null,
            "flex": null,
            "flex_flow": null,
            "grid_area": null,
            "grid_auto_columns": null,
            "grid_auto_flow": null,
            "grid_auto_rows": null,
            "grid_column": null,
            "grid_gap": null,
            "grid_row": null,
            "grid_template_areas": null,
            "grid_template_columns": null,
            "grid_template_rows": null,
            "height": null,
            "justify_content": null,
            "justify_items": null,
            "left": null,
            "margin": null,
            "max_height": null,
            "max_width": null,
            "min_height": null,
            "min_width": null,
            "object_fit": null,
            "object_position": null,
            "order": null,
            "overflow": null,
            "overflow_x": null,
            "overflow_y": null,
            "padding": null,
            "right": null,
            "top": null,
            "visibility": null,
            "width": null
          }
        },
        "1cfbbc0500204bb4b13b8ad1b1660559": {
          "model_module": "@jupyter-widgets/controls",
          "model_module_version": "1.5.0",
          "model_name": "DescriptionStyleModel",
          "state": {
            "_model_module": "@jupyter-widgets/controls",
            "_model_module_version": "1.5.0",
            "_model_name": "DescriptionStyleModel",
            "_view_count": null,
            "_view_module": "@jupyter-widgets/base",
            "_view_module_version": "1.2.0",
            "_view_name": "StyleView",
            "description_width": ""
          }
        },
        "2185f33656444b0a842a3048c15e4eec": {
          "model_module": "@jupyter-widgets/controls",
          "model_module_version": "1.5.0",
          "model_name": "ProgressStyleModel",
          "state": {
            "_model_module": "@jupyter-widgets/controls",
            "_model_module_version": "1.5.0",
            "_model_name": "ProgressStyleModel",
            "_view_count": null,
            "_view_module": "@jupyter-widgets/base",
            "_view_module_version": "1.2.0",
            "_view_name": "StyleView",
            "bar_color": null,
            "description_width": ""
          }
        },
        "2321a32e555245aab1a5873701382338": {
          "model_module": "@jupyter-widgets/controls",
          "model_module_version": "1.5.0",
          "model_name": "DescriptionStyleModel",
          "state": {
            "_model_module": "@jupyter-widgets/controls",
            "_model_module_version": "1.5.0",
            "_model_name": "DescriptionStyleModel",
            "_view_count": null,
            "_view_module": "@jupyter-widgets/base",
            "_view_module_version": "1.2.0",
            "_view_name": "StyleView",
            "description_width": ""
          }
        },
        "3320644587ef4aa3a1e7be76fcacba31": {
          "model_module": "@jupyter-widgets/controls",
          "model_module_version": "1.5.0",
          "model_name": "HBoxModel",
          "state": {
            "_dom_classes": [],
            "_model_module": "@jupyter-widgets/controls",
            "_model_module_version": "1.5.0",
            "_model_name": "HBoxModel",
            "_view_count": null,
            "_view_module": "@jupyter-widgets/controls",
            "_view_module_version": "1.5.0",
            "_view_name": "HBoxView",
            "box_style": "",
            "children": [
              "IPY_MODEL_52dc2968744448c4af651f1ed556809f",
              "IPY_MODEL_5bd627499b6e48a78346689cce44657e",
              "IPY_MODEL_e6f880170fa04ff281315a66b8914194"
            ],
            "layout": "IPY_MODEL_52910c42075a429e81b8cf2f6a6708ec"
          }
        },
        "3bc213ed44504cdaab6f01f8eb7cdad2": {
          "model_module": "@jupyter-widgets/controls",
          "model_module_version": "1.5.0",
          "model_name": "HTMLModel",
          "state": {
            "_dom_classes": [],
            "_model_module": "@jupyter-widgets/controls",
            "_model_module_version": "1.5.0",
            "_model_name": "HTMLModel",
            "_view_count": null,
            "_view_module": "@jupyter-widgets/controls",
            "_view_module_version": "1.5.0",
            "_view_name": "HTMLView",
            "description": "",
            "description_tooltip": null,
            "layout": "IPY_MODEL_6165c477f3344f118971d33d2a36a9b2",
            "placeholder": "​",
            "style": "IPY_MODEL_0f92d9c4625d4777b1847832dfbde34b",
            "value": " 26421880/26421880 [00:00&lt;00:00, 122152122.34it/s]"
          }
        },
        "49e5d1d27adb4d99b3e300b9e6ff49fc": {
          "model_module": "@jupyter-widgets/controls",
          "model_module_version": "1.5.0",
          "model_name": "HTMLModel",
          "state": {
            "_dom_classes": [],
            "_model_module": "@jupyter-widgets/controls",
            "_model_module_version": "1.5.0",
            "_model_name": "HTMLModel",
            "_view_count": null,
            "_view_module": "@jupyter-widgets/controls",
            "_view_module_version": "1.5.0",
            "_view_name": "HTMLView",
            "description": "",
            "description_tooltip": null,
            "layout": "IPY_MODEL_a83049e656d647c2a75e4c790e7507a5",
            "placeholder": "​",
            "style": "IPY_MODEL_cd7b264633cd49de84d999e2dc64d5be",
            "value": " 29515/29515 [00:00&lt;00:00, 288941.31it/s]"
          }
        },
        "4beb968f0f954d568ff6699b208a5702": {
          "model_module": "@jupyter-widgets/controls",
          "model_module_version": "1.5.0",
          "model_name": "HBoxModel",
          "state": {
            "_dom_classes": [],
            "_model_module": "@jupyter-widgets/controls",
            "_model_module_version": "1.5.0",
            "_model_name": "HBoxModel",
            "_view_count": null,
            "_view_module": "@jupyter-widgets/controls",
            "_view_module_version": "1.5.0",
            "_view_name": "HBoxView",
            "box_style": "",
            "children": [
              "IPY_MODEL_c357ae705c454a92b5e6d6e2eb9ba768",
              "IPY_MODEL_ac7ada271e1a426f99efb24a1a4ae551",
              "IPY_MODEL_49e5d1d27adb4d99b3e300b9e6ff49fc"
            ],
            "layout": "IPY_MODEL_bb0d73549063439782aa7503c7351d43"
          }
        },
        "4cf5fe9c635c4e9688a87717ce3e98b3": {
          "model_module": "@jupyter-widgets/base",
          "model_module_version": "1.2.0",
          "model_name": "LayoutModel",
          "state": {
            "_model_module": "@jupyter-widgets/base",
            "_model_module_version": "1.2.0",
            "_model_name": "LayoutModel",
            "_view_count": null,
            "_view_module": "@jupyter-widgets/base",
            "_view_module_version": "1.2.0",
            "_view_name": "LayoutView",
            "align_content": null,
            "align_items": null,
            "align_self": null,
            "border": null,
            "bottom": null,
            "display": null,
            "flex": null,
            "flex_flow": null,
            "grid_area": null,
            "grid_auto_columns": null,
            "grid_auto_flow": null,
            "grid_auto_rows": null,
            "grid_column": null,
            "grid_gap": null,
            "grid_row": null,
            "grid_template_areas": null,
            "grid_template_columns": null,
            "grid_template_rows": null,
            "height": null,
            "justify_content": null,
            "justify_items": null,
            "left": null,
            "margin": null,
            "max_height": null,
            "max_width": null,
            "min_height": null,
            "min_width": null,
            "object_fit": null,
            "object_position": null,
            "order": null,
            "overflow": null,
            "overflow_x": null,
            "overflow_y": null,
            "padding": null,
            "right": null,
            "top": null,
            "visibility": null,
            "width": null
          }
        },
        "52910c42075a429e81b8cf2f6a6708ec": {
          "model_module": "@jupyter-widgets/base",
          "model_module_version": "1.2.0",
          "model_name": "LayoutModel",
          "state": {
            "_model_module": "@jupyter-widgets/base",
            "_model_module_version": "1.2.0",
            "_model_name": "LayoutModel",
            "_view_count": null,
            "_view_module": "@jupyter-widgets/base",
            "_view_module_version": "1.2.0",
            "_view_name": "LayoutView",
            "align_content": null,
            "align_items": null,
            "align_self": null,
            "border": null,
            "bottom": null,
            "display": null,
            "flex": null,
            "flex_flow": null,
            "grid_area": null,
            "grid_auto_columns": null,
            "grid_auto_flow": null,
            "grid_auto_rows": null,
            "grid_column": null,
            "grid_gap": null,
            "grid_row": null,
            "grid_template_areas": null,
            "grid_template_columns": null,
            "grid_template_rows": null,
            "height": null,
            "justify_content": null,
            "justify_items": null,
            "left": null,
            "margin": null,
            "max_height": null,
            "max_width": null,
            "min_height": null,
            "min_width": null,
            "object_fit": null,
            "object_position": null,
            "order": null,
            "overflow": null,
            "overflow_x": null,
            "overflow_y": null,
            "padding": null,
            "right": null,
            "top": null,
            "visibility": null,
            "width": null
          }
        },
        "52c12efbd24f439782a7417a43740ed1": {
          "model_module": "@jupyter-widgets/controls",
          "model_module_version": "1.5.0",
          "model_name": "HBoxModel",
          "state": {
            "_dom_classes": [],
            "_model_module": "@jupyter-widgets/controls",
            "_model_module_version": "1.5.0",
            "_model_name": "HBoxModel",
            "_view_count": null,
            "_view_module": "@jupyter-widgets/controls",
            "_view_module_version": "1.5.0",
            "_view_name": "HBoxView",
            "box_style": "",
            "children": [
              "IPY_MODEL_812e3c975c81449cb4f0607bf4426cf1",
              "IPY_MODEL_d9aa554053114e58b1a7781837556693",
              "IPY_MODEL_82bf328e5b1248359ba052d86701a0da"
            ],
            "layout": "IPY_MODEL_4cf5fe9c635c4e9688a87717ce3e98b3"
          }
        },
        "52dc2968744448c4af651f1ed556809f": {
          "model_module": "@jupyter-widgets/controls",
          "model_module_version": "1.5.0",
          "model_name": "HTMLModel",
          "state": {
            "_dom_classes": [],
            "_model_module": "@jupyter-widgets/controls",
            "_model_module_version": "1.5.0",
            "_model_name": "HTMLModel",
            "_view_count": null,
            "_view_module": "@jupyter-widgets/controls",
            "_view_module_version": "1.5.0",
            "_view_name": "HTMLView",
            "description": "",
            "description_tooltip": null,
            "layout": "IPY_MODEL_a6c40c690ff240889f3bdf19aad7ca3c",
            "placeholder": "​",
            "style": "IPY_MODEL_ccce07f9d0cc4e4c8f229bf3c503f2de",
            "value": "100%"
          }
        },
        "5bd627499b6e48a78346689cce44657e": {
          "model_module": "@jupyter-widgets/controls",
          "model_module_version": "1.5.0",
          "model_name": "FloatProgressModel",
          "state": {
            "_dom_classes": [],
            "_model_module": "@jupyter-widgets/controls",
            "_model_module_version": "1.5.0",
            "_model_name": "FloatProgressModel",
            "_view_count": null,
            "_view_module": "@jupyter-widgets/controls",
            "_view_module_version": "1.5.0",
            "_view_name": "ProgressView",
            "bar_style": "success",
            "description": "",
            "description_tooltip": null,
            "layout": "IPY_MODEL_ad1ba2bd80da40c680db8fabab90a74f",
            "max": 5148,
            "min": 0,
            "orientation": "horizontal",
            "style": "IPY_MODEL_e1c53decca6a4278a6bb1f065c7a43cd",
            "value": 5148
          }
        },
        "5f79dab3afa44151aafaf60dd7b304bd": {
          "model_module": "@jupyter-widgets/base",
          "model_module_version": "1.2.0",
          "model_name": "LayoutModel",
          "state": {
            "_model_module": "@jupyter-widgets/base",
            "_model_module_version": "1.2.0",
            "_model_name": "LayoutModel",
            "_view_count": null,
            "_view_module": "@jupyter-widgets/base",
            "_view_module_version": "1.2.0",
            "_view_name": "LayoutView",
            "align_content": null,
            "align_items": null,
            "align_self": null,
            "border": null,
            "bottom": null,
            "display": null,
            "flex": null,
            "flex_flow": null,
            "grid_area": null,
            "grid_auto_columns": null,
            "grid_auto_flow": null,
            "grid_auto_rows": null,
            "grid_column": null,
            "grid_gap": null,
            "grid_row": null,
            "grid_template_areas": null,
            "grid_template_columns": null,
            "grid_template_rows": null,
            "height": null,
            "justify_content": null,
            "justify_items": null,
            "left": null,
            "margin": null,
            "max_height": null,
            "max_width": null,
            "min_height": null,
            "min_width": null,
            "object_fit": null,
            "object_position": null,
            "order": null,
            "overflow": null,
            "overflow_x": null,
            "overflow_y": null,
            "padding": null,
            "right": null,
            "top": null,
            "visibility": null,
            "width": null
          }
        },
        "6165c477f3344f118971d33d2a36a9b2": {
          "model_module": "@jupyter-widgets/base",
          "model_module_version": "1.2.0",
          "model_name": "LayoutModel",
          "state": {
            "_model_module": "@jupyter-widgets/base",
            "_model_module_version": "1.2.0",
            "_model_name": "LayoutModel",
            "_view_count": null,
            "_view_module": "@jupyter-widgets/base",
            "_view_module_version": "1.2.0",
            "_view_name": "LayoutView",
            "align_content": null,
            "align_items": null,
            "align_self": null,
            "border": null,
            "bottom": null,
            "display": null,
            "flex": null,
            "flex_flow": null,
            "grid_area": null,
            "grid_auto_columns": null,
            "grid_auto_flow": null,
            "grid_auto_rows": null,
            "grid_column": null,
            "grid_gap": null,
            "grid_row": null,
            "grid_template_areas": null,
            "grid_template_columns": null,
            "grid_template_rows": null,
            "height": null,
            "justify_content": null,
            "justify_items": null,
            "left": null,
            "margin": null,
            "max_height": null,
            "max_width": null,
            "min_height": null,
            "min_width": null,
            "object_fit": null,
            "object_position": null,
            "order": null,
            "overflow": null,
            "overflow_x": null,
            "overflow_y": null,
            "padding": null,
            "right": null,
            "top": null,
            "visibility": null,
            "width": null
          }
        },
        "6c0b1373e35642308d30d7bde522196c": {
          "model_module": "@jupyter-widgets/controls",
          "model_module_version": "1.5.0",
          "model_name": "FloatProgressModel",
          "state": {
            "_dom_classes": [],
            "_model_module": "@jupyter-widgets/controls",
            "_model_module_version": "1.5.0",
            "_model_name": "FloatProgressModel",
            "_view_count": null,
            "_view_module": "@jupyter-widgets/controls",
            "_view_module_version": "1.5.0",
            "_view_name": "ProgressView",
            "bar_style": "success",
            "description": "",
            "description_tooltip": null,
            "layout": "IPY_MODEL_f64aef0c4d7b4b478dc566a8ec01d084",
            "max": 26421880,
            "min": 0,
            "orientation": "horizontal",
            "style": "IPY_MODEL_940b5ae483c648818d18a67fefef9e88",
            "value": 26421880
          }
        },
        "6ebdd403a61c4af29506876013c1db80": {
          "model_module": "@jupyter-widgets/controls",
          "model_module_version": "1.5.0",
          "model_name": "HTMLModel",
          "state": {
            "_dom_classes": [],
            "_model_module": "@jupyter-widgets/controls",
            "_model_module_version": "1.5.0",
            "_model_name": "HTMLModel",
            "_view_count": null,
            "_view_module": "@jupyter-widgets/controls",
            "_view_module_version": "1.5.0",
            "_view_name": "HTMLView",
            "description": "",
            "description_tooltip": null,
            "layout": "IPY_MODEL_c753fa61f18140c8b601a3c7837e15c3",
            "placeholder": "​",
            "style": "IPY_MODEL_2321a32e555245aab1a5873701382338",
            "value": "100%"
          }
        },
        "762d5630d99c427dad6200ec3a8ce11b": {
          "model_module": "@jupyter-widgets/controls",
          "model_module_version": "1.5.0",
          "model_name": "DescriptionStyleModel",
          "state": {
            "_model_module": "@jupyter-widgets/controls",
            "_model_module_version": "1.5.0",
            "_model_name": "DescriptionStyleModel",
            "_view_count": null,
            "_view_module": "@jupyter-widgets/base",
            "_view_module_version": "1.2.0",
            "_view_name": "StyleView",
            "description_width": ""
          }
        },
        "812e3c975c81449cb4f0607bf4426cf1": {
          "model_module": "@jupyter-widgets/controls",
          "model_module_version": "1.5.0",
          "model_name": "HTMLModel",
          "state": {
            "_dom_classes": [],
            "_model_module": "@jupyter-widgets/controls",
            "_model_module_version": "1.5.0",
            "_model_name": "HTMLModel",
            "_view_count": null,
            "_view_module": "@jupyter-widgets/controls",
            "_view_module_version": "1.5.0",
            "_view_name": "HTMLView",
            "description": "",
            "description_tooltip": null,
            "layout": "IPY_MODEL_91efa53c82014c349eb3227641b7c7c6",
            "placeholder": "​",
            "style": "IPY_MODEL_762d5630d99c427dad6200ec3a8ce11b",
            "value": "100%"
          }
        },
        "82bf328e5b1248359ba052d86701a0da": {
          "model_module": "@jupyter-widgets/controls",
          "model_module_version": "1.5.0",
          "model_name": "HTMLModel",
          "state": {
            "_dom_classes": [],
            "_model_module": "@jupyter-widgets/controls",
            "_model_module_version": "1.5.0",
            "_model_name": "HTMLModel",
            "_view_count": null,
            "_view_module": "@jupyter-widgets/controls",
            "_view_module_version": "1.5.0",
            "_view_name": "HTMLView",
            "description": "",
            "description_tooltip": null,
            "layout": "IPY_MODEL_5f79dab3afa44151aafaf60dd7b304bd",
            "placeholder": "​",
            "style": "IPY_MODEL_1cfbbc0500204bb4b13b8ad1b1660559",
            "value": " 4422102/4422102 [00:00&lt;00:00, 6545825.31it/s]"
          }
        },
        "91efa53c82014c349eb3227641b7c7c6": {
          "model_module": "@jupyter-widgets/base",
          "model_module_version": "1.2.0",
          "model_name": "LayoutModel",
          "state": {
            "_model_module": "@jupyter-widgets/base",
            "_model_module_version": "1.2.0",
            "_model_name": "LayoutModel",
            "_view_count": null,
            "_view_module": "@jupyter-widgets/base",
            "_view_module_version": "1.2.0",
            "_view_name": "LayoutView",
            "align_content": null,
            "align_items": null,
            "align_self": null,
            "border": null,
            "bottom": null,
            "display": null,
            "flex": null,
            "flex_flow": null,
            "grid_area": null,
            "grid_auto_columns": null,
            "grid_auto_flow": null,
            "grid_auto_rows": null,
            "grid_column": null,
            "grid_gap": null,
            "grid_row": null,
            "grid_template_areas": null,
            "grid_template_columns": null,
            "grid_template_rows": null,
            "height": null,
            "justify_content": null,
            "justify_items": null,
            "left": null,
            "margin": null,
            "max_height": null,
            "max_width": null,
            "min_height": null,
            "min_width": null,
            "object_fit": null,
            "object_position": null,
            "order": null,
            "overflow": null,
            "overflow_x": null,
            "overflow_y": null,
            "padding": null,
            "right": null,
            "top": null,
            "visibility": null,
            "width": null
          }
        },
        "940b5ae483c648818d18a67fefef9e88": {
          "model_module": "@jupyter-widgets/controls",
          "model_module_version": "1.5.0",
          "model_name": "ProgressStyleModel",
          "state": {
            "_model_module": "@jupyter-widgets/controls",
            "_model_module_version": "1.5.0",
            "_model_name": "ProgressStyleModel",
            "_view_count": null,
            "_view_module": "@jupyter-widgets/base",
            "_view_module_version": "1.2.0",
            "_view_name": "StyleView",
            "bar_color": null,
            "description_width": ""
          }
        },
        "9fc5d723a20c433591fd336d91ba7d3a": {
          "model_module": "@jupyter-widgets/controls",
          "model_module_version": "1.5.0",
          "model_name": "DescriptionStyleModel",
          "state": {
            "_model_module": "@jupyter-widgets/controls",
            "_model_module_version": "1.5.0",
            "_model_name": "DescriptionStyleModel",
            "_view_count": null,
            "_view_module": "@jupyter-widgets/base",
            "_view_module_version": "1.2.0",
            "_view_name": "StyleView",
            "description_width": ""
          }
        },
        "a6c40c690ff240889f3bdf19aad7ca3c": {
          "model_module": "@jupyter-widgets/base",
          "model_module_version": "1.2.0",
          "model_name": "LayoutModel",
          "state": {
            "_model_module": "@jupyter-widgets/base",
            "_model_module_version": "1.2.0",
            "_model_name": "LayoutModel",
            "_view_count": null,
            "_view_module": "@jupyter-widgets/base",
            "_view_module_version": "1.2.0",
            "_view_name": "LayoutView",
            "align_content": null,
            "align_items": null,
            "align_self": null,
            "border": null,
            "bottom": null,
            "display": null,
            "flex": null,
            "flex_flow": null,
            "grid_area": null,
            "grid_auto_columns": null,
            "grid_auto_flow": null,
            "grid_auto_rows": null,
            "grid_column": null,
            "grid_gap": null,
            "grid_row": null,
            "grid_template_areas": null,
            "grid_template_columns": null,
            "grid_template_rows": null,
            "height": null,
            "justify_content": null,
            "justify_items": null,
            "left": null,
            "margin": null,
            "max_height": null,
            "max_width": null,
            "min_height": null,
            "min_width": null,
            "object_fit": null,
            "object_position": null,
            "order": null,
            "overflow": null,
            "overflow_x": null,
            "overflow_y": null,
            "padding": null,
            "right": null,
            "top": null,
            "visibility": null,
            "width": null
          }
        },
        "a83049e656d647c2a75e4c790e7507a5": {
          "model_module": "@jupyter-widgets/base",
          "model_module_version": "1.2.0",
          "model_name": "LayoutModel",
          "state": {
            "_model_module": "@jupyter-widgets/base",
            "_model_module_version": "1.2.0",
            "_model_name": "LayoutModel",
            "_view_count": null,
            "_view_module": "@jupyter-widgets/base",
            "_view_module_version": "1.2.0",
            "_view_name": "LayoutView",
            "align_content": null,
            "align_items": null,
            "align_self": null,
            "border": null,
            "bottom": null,
            "display": null,
            "flex": null,
            "flex_flow": null,
            "grid_area": null,
            "grid_auto_columns": null,
            "grid_auto_flow": null,
            "grid_auto_rows": null,
            "grid_column": null,
            "grid_gap": null,
            "grid_row": null,
            "grid_template_areas": null,
            "grid_template_columns": null,
            "grid_template_rows": null,
            "height": null,
            "justify_content": null,
            "justify_items": null,
            "left": null,
            "margin": null,
            "max_height": null,
            "max_width": null,
            "min_height": null,
            "min_width": null,
            "object_fit": null,
            "object_position": null,
            "order": null,
            "overflow": null,
            "overflow_x": null,
            "overflow_y": null,
            "padding": null,
            "right": null,
            "top": null,
            "visibility": null,
            "width": null
          }
        },
        "ac7ada271e1a426f99efb24a1a4ae551": {
          "model_module": "@jupyter-widgets/controls",
          "model_module_version": "1.5.0",
          "model_name": "FloatProgressModel",
          "state": {
            "_dom_classes": [],
            "_model_module": "@jupyter-widgets/controls",
            "_model_module_version": "1.5.0",
            "_model_name": "FloatProgressModel",
            "_view_count": null,
            "_view_module": "@jupyter-widgets/controls",
            "_view_module_version": "1.5.0",
            "_view_name": "ProgressView",
            "bar_style": "success",
            "description": "",
            "description_tooltip": null,
            "layout": "IPY_MODEL_f0d49341d8e8443082cd2129b91cd7ce",
            "max": 29515,
            "min": 0,
            "orientation": "horizontal",
            "style": "IPY_MODEL_ce6c127461194141a285ad180a9c6038",
            "value": 29515
          }
        },
        "ad1ba2bd80da40c680db8fabab90a74f": {
          "model_module": "@jupyter-widgets/base",
          "model_module_version": "1.2.0",
          "model_name": "LayoutModel",
          "state": {
            "_model_module": "@jupyter-widgets/base",
            "_model_module_version": "1.2.0",
            "_model_name": "LayoutModel",
            "_view_count": null,
            "_view_module": "@jupyter-widgets/base",
            "_view_module_version": "1.2.0",
            "_view_name": "LayoutView",
            "align_content": null,
            "align_items": null,
            "align_self": null,
            "border": null,
            "bottom": null,
            "display": null,
            "flex": null,
            "flex_flow": null,
            "grid_area": null,
            "grid_auto_columns": null,
            "grid_auto_flow": null,
            "grid_auto_rows": null,
            "grid_column": null,
            "grid_gap": null,
            "grid_row": null,
            "grid_template_areas": null,
            "grid_template_columns": null,
            "grid_template_rows": null,
            "height": null,
            "justify_content": null,
            "justify_items": null,
            "left": null,
            "margin": null,
            "max_height": null,
            "max_width": null,
            "min_height": null,
            "min_width": null,
            "object_fit": null,
            "object_position": null,
            "order": null,
            "overflow": null,
            "overflow_x": null,
            "overflow_y": null,
            "padding": null,
            "right": null,
            "top": null,
            "visibility": null,
            "width": null
          }
        },
        "b2befd9df26640eeb59f2f39d4af60fe": {
          "model_module": "@jupyter-widgets/controls",
          "model_module_version": "1.5.0",
          "model_name": "HBoxModel",
          "state": {
            "_dom_classes": [],
            "_model_module": "@jupyter-widgets/controls",
            "_model_module_version": "1.5.0",
            "_model_name": "HBoxModel",
            "_view_count": null,
            "_view_module": "@jupyter-widgets/controls",
            "_view_module_version": "1.5.0",
            "_view_name": "HBoxView",
            "box_style": "",
            "children": [
              "IPY_MODEL_6ebdd403a61c4af29506876013c1db80",
              "IPY_MODEL_6c0b1373e35642308d30d7bde522196c",
              "IPY_MODEL_3bc213ed44504cdaab6f01f8eb7cdad2"
            ],
            "layout": "IPY_MODEL_06f9673245504249876cb2b20d2c747f"
          }
        },
        "bb0d73549063439782aa7503c7351d43": {
          "model_module": "@jupyter-widgets/base",
          "model_module_version": "1.2.0",
          "model_name": "LayoutModel",
          "state": {
            "_model_module": "@jupyter-widgets/base",
            "_model_module_version": "1.2.0",
            "_model_name": "LayoutModel",
            "_view_count": null,
            "_view_module": "@jupyter-widgets/base",
            "_view_module_version": "1.2.0",
            "_view_name": "LayoutView",
            "align_content": null,
            "align_items": null,
            "align_self": null,
            "border": null,
            "bottom": null,
            "display": null,
            "flex": null,
            "flex_flow": null,
            "grid_area": null,
            "grid_auto_columns": null,
            "grid_auto_flow": null,
            "grid_auto_rows": null,
            "grid_column": null,
            "grid_gap": null,
            "grid_row": null,
            "grid_template_areas": null,
            "grid_template_columns": null,
            "grid_template_rows": null,
            "height": null,
            "justify_content": null,
            "justify_items": null,
            "left": null,
            "margin": null,
            "max_height": null,
            "max_width": null,
            "min_height": null,
            "min_width": null,
            "object_fit": null,
            "object_position": null,
            "order": null,
            "overflow": null,
            "overflow_x": null,
            "overflow_y": null,
            "padding": null,
            "right": null,
            "top": null,
            "visibility": null,
            "width": null
          }
        },
        "c099504f95ce4427a45bd070405edefb": {
          "model_module": "@jupyter-widgets/base",
          "model_module_version": "1.2.0",
          "model_name": "LayoutModel",
          "state": {
            "_model_module": "@jupyter-widgets/base",
            "_model_module_version": "1.2.0",
            "_model_name": "LayoutModel",
            "_view_count": null,
            "_view_module": "@jupyter-widgets/base",
            "_view_module_version": "1.2.0",
            "_view_name": "LayoutView",
            "align_content": null,
            "align_items": null,
            "align_self": null,
            "border": null,
            "bottom": null,
            "display": null,
            "flex": null,
            "flex_flow": null,
            "grid_area": null,
            "grid_auto_columns": null,
            "grid_auto_flow": null,
            "grid_auto_rows": null,
            "grid_column": null,
            "grid_gap": null,
            "grid_row": null,
            "grid_template_areas": null,
            "grid_template_columns": null,
            "grid_template_rows": null,
            "height": null,
            "justify_content": null,
            "justify_items": null,
            "left": null,
            "margin": null,
            "max_height": null,
            "max_width": null,
            "min_height": null,
            "min_width": null,
            "object_fit": null,
            "object_position": null,
            "order": null,
            "overflow": null,
            "overflow_x": null,
            "overflow_y": null,
            "padding": null,
            "right": null,
            "top": null,
            "visibility": null,
            "width": null
          }
        },
        "c357ae705c454a92b5e6d6e2eb9ba768": {
          "model_module": "@jupyter-widgets/controls",
          "model_module_version": "1.5.0",
          "model_name": "HTMLModel",
          "state": {
            "_dom_classes": [],
            "_model_module": "@jupyter-widgets/controls",
            "_model_module_version": "1.5.0",
            "_model_name": "HTMLModel",
            "_view_count": null,
            "_view_module": "@jupyter-widgets/controls",
            "_view_module_version": "1.5.0",
            "_view_name": "HTMLView",
            "description": "",
            "description_tooltip": null,
            "layout": "IPY_MODEL_d095b5e4643b4f559386d03d05f7bee7",
            "placeholder": "​",
            "style": "IPY_MODEL_9fc5d723a20c433591fd336d91ba7d3a",
            "value": "100%"
          }
        },
        "c753fa61f18140c8b601a3c7837e15c3": {
          "model_module": "@jupyter-widgets/base",
          "model_module_version": "1.2.0",
          "model_name": "LayoutModel",
          "state": {
            "_model_module": "@jupyter-widgets/base",
            "_model_module_version": "1.2.0",
            "_model_name": "LayoutModel",
            "_view_count": null,
            "_view_module": "@jupyter-widgets/base",
            "_view_module_version": "1.2.0",
            "_view_name": "LayoutView",
            "align_content": null,
            "align_items": null,
            "align_self": null,
            "border": null,
            "bottom": null,
            "display": null,
            "flex": null,
            "flex_flow": null,
            "grid_area": null,
            "grid_auto_columns": null,
            "grid_auto_flow": null,
            "grid_auto_rows": null,
            "grid_column": null,
            "grid_gap": null,
            "grid_row": null,
            "grid_template_areas": null,
            "grid_template_columns": null,
            "grid_template_rows": null,
            "height": null,
            "justify_content": null,
            "justify_items": null,
            "left": null,
            "margin": null,
            "max_height": null,
            "max_width": null,
            "min_height": null,
            "min_width": null,
            "object_fit": null,
            "object_position": null,
            "order": null,
            "overflow": null,
            "overflow_x": null,
            "overflow_y": null,
            "padding": null,
            "right": null,
            "top": null,
            "visibility": null,
            "width": null
          }
        },
        "ccce07f9d0cc4e4c8f229bf3c503f2de": {
          "model_module": "@jupyter-widgets/controls",
          "model_module_version": "1.5.0",
          "model_name": "DescriptionStyleModel",
          "state": {
            "_model_module": "@jupyter-widgets/controls",
            "_model_module_version": "1.5.0",
            "_model_name": "DescriptionStyleModel",
            "_view_count": null,
            "_view_module": "@jupyter-widgets/base",
            "_view_module_version": "1.2.0",
            "_view_name": "StyleView",
            "description_width": ""
          }
        },
        "cd7b264633cd49de84d999e2dc64d5be": {
          "model_module": "@jupyter-widgets/controls",
          "model_module_version": "1.5.0",
          "model_name": "DescriptionStyleModel",
          "state": {
            "_model_module": "@jupyter-widgets/controls",
            "_model_module_version": "1.5.0",
            "_model_name": "DescriptionStyleModel",
            "_view_count": null,
            "_view_module": "@jupyter-widgets/base",
            "_view_module_version": "1.2.0",
            "_view_name": "StyleView",
            "description_width": ""
          }
        },
        "ce6c127461194141a285ad180a9c6038": {
          "model_module": "@jupyter-widgets/controls",
          "model_module_version": "1.5.0",
          "model_name": "ProgressStyleModel",
          "state": {
            "_model_module": "@jupyter-widgets/controls",
            "_model_module_version": "1.5.0",
            "_model_name": "ProgressStyleModel",
            "_view_count": null,
            "_view_module": "@jupyter-widgets/base",
            "_view_module_version": "1.2.0",
            "_view_name": "StyleView",
            "bar_color": null,
            "description_width": ""
          }
        },
        "d095b5e4643b4f559386d03d05f7bee7": {
          "model_module": "@jupyter-widgets/base",
          "model_module_version": "1.2.0",
          "model_name": "LayoutModel",
          "state": {
            "_model_module": "@jupyter-widgets/base",
            "_model_module_version": "1.2.0",
            "_model_name": "LayoutModel",
            "_view_count": null,
            "_view_module": "@jupyter-widgets/base",
            "_view_module_version": "1.2.0",
            "_view_name": "LayoutView",
            "align_content": null,
            "align_items": null,
            "align_self": null,
            "border": null,
            "bottom": null,
            "display": null,
            "flex": null,
            "flex_flow": null,
            "grid_area": null,
            "grid_auto_columns": null,
            "grid_auto_flow": null,
            "grid_auto_rows": null,
            "grid_column": null,
            "grid_gap": null,
            "grid_row": null,
            "grid_template_areas": null,
            "grid_template_columns": null,
            "grid_template_rows": null,
            "height": null,
            "justify_content": null,
            "justify_items": null,
            "left": null,
            "margin": null,
            "max_height": null,
            "max_width": null,
            "min_height": null,
            "min_width": null,
            "object_fit": null,
            "object_position": null,
            "order": null,
            "overflow": null,
            "overflow_x": null,
            "overflow_y": null,
            "padding": null,
            "right": null,
            "top": null,
            "visibility": null,
            "width": null
          }
        },
        "d9aa554053114e58b1a7781837556693": {
          "model_module": "@jupyter-widgets/controls",
          "model_module_version": "1.5.0",
          "model_name": "FloatProgressModel",
          "state": {
            "_dom_classes": [],
            "_model_module": "@jupyter-widgets/controls",
            "_model_module_version": "1.5.0",
            "_model_name": "FloatProgressModel",
            "_view_count": null,
            "_view_module": "@jupyter-widgets/controls",
            "_view_module_version": "1.5.0",
            "_view_name": "ProgressView",
            "bar_style": "success",
            "description": "",
            "description_tooltip": null,
            "layout": "IPY_MODEL_10fdb1505ec0487398a1e25c878619b8",
            "max": 4422102,
            "min": 0,
            "orientation": "horizontal",
            "style": "IPY_MODEL_2185f33656444b0a842a3048c15e4eec",
            "value": 4422102
          }
        },
        "e1c53decca6a4278a6bb1f065c7a43cd": {
          "model_module": "@jupyter-widgets/controls",
          "model_module_version": "1.5.0",
          "model_name": "ProgressStyleModel",
          "state": {
            "_model_module": "@jupyter-widgets/controls",
            "_model_module_version": "1.5.0",
            "_model_name": "ProgressStyleModel",
            "_view_count": null,
            "_view_module": "@jupyter-widgets/base",
            "_view_module_version": "1.2.0",
            "_view_name": "StyleView",
            "bar_color": null,
            "description_width": ""
          }
        },
        "e6f880170fa04ff281315a66b8914194": {
          "model_module": "@jupyter-widgets/controls",
          "model_module_version": "1.5.0",
          "model_name": "HTMLModel",
          "state": {
            "_dom_classes": [],
            "_model_module": "@jupyter-widgets/controls",
            "_model_module_version": "1.5.0",
            "_model_name": "HTMLModel",
            "_view_count": null,
            "_view_module": "@jupyter-widgets/controls",
            "_view_module_version": "1.5.0",
            "_view_name": "HTMLView",
            "description": "",
            "description_tooltip": null,
            "layout": "IPY_MODEL_c099504f95ce4427a45bd070405edefb",
            "placeholder": "​",
            "style": "IPY_MODEL_e9c6d81a33b8444fa2f54827544f1e0e",
            "value": " 5148/5148 [00:00&lt;00:00, 64689.95it/s]"
          }
        },
        "e9c6d81a33b8444fa2f54827544f1e0e": {
          "model_module": "@jupyter-widgets/controls",
          "model_module_version": "1.5.0",
          "model_name": "DescriptionStyleModel",
          "state": {
            "_model_module": "@jupyter-widgets/controls",
            "_model_module_version": "1.5.0",
            "_model_name": "DescriptionStyleModel",
            "_view_count": null,
            "_view_module": "@jupyter-widgets/base",
            "_view_module_version": "1.2.0",
            "_view_name": "StyleView",
            "description_width": ""
          }
        },
        "f0d49341d8e8443082cd2129b91cd7ce": {
          "model_module": "@jupyter-widgets/base",
          "model_module_version": "1.2.0",
          "model_name": "LayoutModel",
          "state": {
            "_model_module": "@jupyter-widgets/base",
            "_model_module_version": "1.2.0",
            "_model_name": "LayoutModel",
            "_view_count": null,
            "_view_module": "@jupyter-widgets/base",
            "_view_module_version": "1.2.0",
            "_view_name": "LayoutView",
            "align_content": null,
            "align_items": null,
            "align_self": null,
            "border": null,
            "bottom": null,
            "display": null,
            "flex": null,
            "flex_flow": null,
            "grid_area": null,
            "grid_auto_columns": null,
            "grid_auto_flow": null,
            "grid_auto_rows": null,
            "grid_column": null,
            "grid_gap": null,
            "grid_row": null,
            "grid_template_areas": null,
            "grid_template_columns": null,
            "grid_template_rows": null,
            "height": null,
            "justify_content": null,
            "justify_items": null,
            "left": null,
            "margin": null,
            "max_height": null,
            "max_width": null,
            "min_height": null,
            "min_width": null,
            "object_fit": null,
            "object_position": null,
            "order": null,
            "overflow": null,
            "overflow_x": null,
            "overflow_y": null,
            "padding": null,
            "right": null,
            "top": null,
            "visibility": null,
            "width": null
          }
        },
        "f64aef0c4d7b4b478dc566a8ec01d084": {
          "model_module": "@jupyter-widgets/base",
          "model_module_version": "1.2.0",
          "model_name": "LayoutModel",
          "state": {
            "_model_module": "@jupyter-widgets/base",
            "_model_module_version": "1.2.0",
            "_model_name": "LayoutModel",
            "_view_count": null,
            "_view_module": "@jupyter-widgets/base",
            "_view_module_version": "1.2.0",
            "_view_name": "LayoutView",
            "align_content": null,
            "align_items": null,
            "align_self": null,
            "border": null,
            "bottom": null,
            "display": null,
            "flex": null,
            "flex_flow": null,
            "grid_area": null,
            "grid_auto_columns": null,
            "grid_auto_flow": null,
            "grid_auto_rows": null,
            "grid_column": null,
            "grid_gap": null,
            "grid_row": null,
            "grid_template_areas": null,
            "grid_template_columns": null,
            "grid_template_rows": null,
            "height": null,
            "justify_content": null,
            "justify_items": null,
            "left": null,
            "margin": null,
            "max_height": null,
            "max_width": null,
            "min_height": null,
            "min_width": null,
            "object_fit": null,
            "object_position": null,
            "order": null,
            "overflow": null,
            "overflow_x": null,
            "overflow_y": null,
            "padding": null,
            "right": null,
            "top": null,
            "visibility": null,
            "width": null
          }
        }
      }
    }
  },
  "nbformat": 4,
  "nbformat_minor": 0
}
